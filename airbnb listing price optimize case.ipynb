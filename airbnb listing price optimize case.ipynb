{
 "cells": [
  {
   "cell_type": "markdown",
   "id": "f4f151c8",
   "metadata": {
    "toc": true
   },
   "source": [
    "<h1>Table of Contents<span class=\"tocSkip\"></span></h1>\n",
    "<div class=\"toc\"><ul class=\"toc-item\"><li><span><a href=\"#Prepare-listing-data\" data-toc-modified-id=\"Prepare-listing-data-1\"><span class=\"toc-item-num\">1&nbsp;&nbsp;</span>Prepare listing data</a></span></li><li><span><a href=\"#Prepare-demand-data\" data-toc-modified-id=\"Prepare-demand-data-2\"><span class=\"toc-item-num\">2&nbsp;&nbsp;</span>Prepare demand data</a></span></li><li><span><a href=\"#Data-Exploration-eda\" data-toc-modified-id=\"Data-Exploration-eda-3\"><span class=\"toc-item-num\">3&nbsp;&nbsp;</span>Data Exploration eda</a></span></li><li><span><a href=\"#Cluster-model\" data-toc-modified-id=\"Cluster-model-4\"><span class=\"toc-item-num\">4&nbsp;&nbsp;</span>Cluster model</a></span><ul class=\"toc-item\"><li><span><a href=\"#Standardizing-features\" data-toc-modified-id=\"Standardizing-features-4.1\"><span class=\"toc-item-num\">4.1&nbsp;&nbsp;</span>Standardizing features</a></span></li><li><span><a href=\"#elbow-chart:-find-an-appropriate-K-value\" data-toc-modified-id=\"elbow-chart:-find-an-appropriate-K-value-4.2\"><span class=\"toc-item-num\">4.2&nbsp;&nbsp;</span>elbow chart: find an appropriate K value</a></span></li><li><span><a href=\"#Re-train-kmeans\" data-toc-modified-id=\"Re-train-kmeans-4.3\"><span class=\"toc-item-num\">4.3&nbsp;&nbsp;</span>Re-train kmeans</a></span></li></ul></li><li><span><a href=\"#Price-prediction-model\" data-toc-modified-id=\"Price-prediction-model-5\"><span class=\"toc-item-num\">5&nbsp;&nbsp;</span>Price prediction model</a></span><ul class=\"toc-item\"><li><span><a href=\"#Fill-in-the-missing-values\" data-toc-modified-id=\"Fill-in-the-missing-values-5.1\"><span class=\"toc-item-num\">5.1&nbsp;&nbsp;</span>Fill in the missing values</a></span></li><li><span><a href=\"#Train-model\" data-toc-modified-id=\"Train-model-5.2\"><span class=\"toc-item-num\">5.2&nbsp;&nbsp;</span>Train model</a></span></li><li><span><a href=\"#Actual-values-vs-prediction-values----scatterplot\" data-toc-modified-id=\"Actual-values-vs-prediction-values----scatterplot-5.3\"><span class=\"toc-item-num\">5.3&nbsp;&nbsp;</span>Actual values vs prediction values--- scatterplot</a></span></li></ul></li><li><span><a href=\"#Estimation-demand-function\" data-toc-modified-id=\"Estimation-demand-function-6\"><span class=\"toc-item-num\">6&nbsp;&nbsp;</span>Estimation demand function</a></span><ul class=\"toc-item\"><li><span><a href=\"#cluster-1:-the-estimation-of-demand-function\" data-toc-modified-id=\"cluster-1:-the-estimation-of-demand-function-6.1\"><span class=\"toc-item-num\">6.1&nbsp;&nbsp;</span>cluster 1: the estimation of demand function</a></span></li><li><span><a href=\"#cluster-2:-the-estimation-of-demand-function\" data-toc-modified-id=\"cluster-2:-the-estimation-of-demand-function-6.2\"><span class=\"toc-item-num\">6.2&nbsp;&nbsp;</span>cluster 2: the estimation of demand function</a></span></li><li><span><a href=\"#cluster-3:-the-estimation-of-demand-function\" data-toc-modified-id=\"cluster-3:-the-estimation-of-demand-function-6.3\"><span class=\"toc-item-num\">6.3&nbsp;&nbsp;</span>cluster 3: the estimation of demand function</a></span></li><li><span><a href=\"#cluster-4:-the-estimation-of-demand-function\" data-toc-modified-id=\"cluster-4:-the-estimation-of-demand-function-6.4\"><span class=\"toc-item-num\">6.4&nbsp;&nbsp;</span>cluster 4: the estimation of demand function</a></span></li><li><span><a href=\"#cluster-5:-the-estimation-of-demand-function\" data-toc-modified-id=\"cluster-5:-the-estimation-of-demand-function-6.5\"><span class=\"toc-item-num\">6.5&nbsp;&nbsp;</span>cluster 5: the estimation of demand function</a></span></li></ul></li><li><span><a href=\"#optimize-price\" data-toc-modified-id=\"optimize-price-7\"><span class=\"toc-item-num\">7&nbsp;&nbsp;</span>optimize price</a></span><ul class=\"toc-item\"><li><span><a href=\"#cluster-1:-search-for-opt_price-and-occupation_ratio\" data-toc-modified-id=\"cluster-1:-search-for-opt_price-and-occupation_ratio-7.1\"><span class=\"toc-item-num\">7.1&nbsp;&nbsp;</span>cluster 1: search for opt_price and occupation_ratio</a></span></li><li><span><a href=\"#cluster-2:-search-for-opt_price-and-occupation_ratio\" data-toc-modified-id=\"cluster-2:-search-for-opt_price-and-occupation_ratio-7.2\"><span class=\"toc-item-num\">7.2&nbsp;&nbsp;</span>cluster 2: search for opt_price and occupation_ratio</a></span></li><li><span><a href=\"#cluster-3:-search-for-opt_price-and-occupation_ratio\" data-toc-modified-id=\"cluster-3:-search-for-opt_price-and-occupation_ratio-7.3\"><span class=\"toc-item-num\">7.3&nbsp;&nbsp;</span>cluster 3: search for opt_price and occupation_ratio</a></span></li><li><span><a href=\"#cluster-4:-search-for-opt_price-and-occupation_ratio\" data-toc-modified-id=\"cluster-4:-search-for-opt_price-and-occupation_ratio-7.4\"><span class=\"toc-item-num\">7.4&nbsp;&nbsp;</span>cluster 4: search for opt_price and occupation_ratio</a></span></li><li><span><a href=\"#cluster-5:-search-for-opt_price-and-occupation_ratio\" data-toc-modified-id=\"cluster-5:-search-for-opt_price-and-occupation_ratio-7.5\"><span class=\"toc-item-num\">7.5&nbsp;&nbsp;</span>cluster 5: search for opt_price and occupation_ratio</a></span></li></ul></li><li><span><a href=\"#Application\" data-toc-modified-id=\"Application-8\"><span class=\"toc-item-num\">8&nbsp;&nbsp;</span>Application</a></span></li></ul></div>"
   ]
  },
  {
   "cell_type": "markdown",
   "id": "a16a5286",
   "metadata": {},
   "source": [
    "+ case goal：according to the price of airbnb listing and calendar data，find the optimal price of listing \n",
    "+ method：\n",
    "    1. pre-process the data, clean the data, explore data. \n",
    "    2. segment customer by clustering, K-means\n",
    "    3. use machine learning model, estimate the price of listing\n",
    "    4. combine prediction of price and optimal price, set the final price"
   ]
  },
  {
   "cell_type": "code",
   "execution_count": 1,
   "id": "a059543e",
   "metadata": {},
   "outputs": [],
   "source": [
    "# data source ：http://insideairbnb.com/get-the-data.html  search “New York City, New York, United States” and download\n",
    "# date compiled: 04 December, 2021"
   ]
  },
  {
   "cell_type": "code",
   "execution_count": 2,
   "id": "dfaf6862",
   "metadata": {},
   "outputs": [],
   "source": [
    "import re\n",
    "import numpy as np\n",
    "import pandas as pd\n",
    "import matplotlib.pyplot as plt\n",
    "import seaborn as sns\n",
    "\n",
    "from sklearn.preprocessing import StandardScaler\n",
    "from sklearn.cluster import KMeans\n",
    "\n",
    "from sklearn.linear_model import LinearRegression\n",
    "from sklearn.preprocessing import PolynomialFeatures\n",
    "from sklearn.model_selection import GridSearchCV\n",
    "from sklearn.pipeline import Pipeline\n",
    "\n",
    "pd.set_option(\"display.max_columns\",None)\n",
    "pd.set_option(\"display.max_colwidth\",200)\n",
    "sns.set_palette(\"Set2\")\n",
    "sns.set_style(\"white\")\n",
    "\n",
    "import warnings\n",
    "warnings.filterwarnings(\"ignore\")"
   ]
  },
  {
   "cell_type": "markdown",
   "id": "b782a3d0",
   "metadata": {},
   "source": [
    "# Prepare listing data"
   ]
  },
  {
   "cell_type": "code",
   "execution_count": 3,
   "id": "cf0c893e",
   "metadata": {},
   "outputs": [],
   "source": [
    "df_listing=pd.read_csv(\"./airbnb_newyork/listings.csv\",low_memory=False)\n",
    "\n",
    "useful_cols=['id', 'host_since', 'host_location',\n",
    "             'host_neighbourhood','description', 'neighbourhood', 'latitude', 'longitude', 'property_type', 'room_type', \n",
    "             'accommodates', 'bathrooms', 'bathrooms_text', 'bedrooms', 'beds', 'price','review_scores_rating','minimum_nights']"
   ]
  },
  {
   "cell_type": "code",
   "execution_count": 4,
   "id": "47bf4727",
   "metadata": {},
   "outputs": [
    {
     "data": {
      "text/plain": [
       "Entire rental unit                  16014\n",
       "Private room in rental unit         11664\n",
       "Private room in residential home     1980\n",
       "Private room in townhouse            1180\n",
       "Entire residential home              1156\n",
       "Name: property_type, dtype: int64"
      ]
     },
     "execution_count": 4,
     "metadata": {},
     "output_type": "execute_result"
    }
   ],
   "source": [
    "# We chose a property to do research： Entire rental unit\n",
    "# Entire rental unit has the most records \n",
    "# Only for this property, the relationship between price and demand is obvious  \n",
    "\n",
    "df_listing[\"property_type\"].value_counts().head()"
   ]
  },
  {
   "cell_type": "code",
   "execution_count": 5,
   "id": "40104dbc",
   "metadata": {},
   "outputs": [
    {
     "data": {
      "text/html": [
       "<div>\n",
       "<style scoped>\n",
       "    .dataframe tbody tr th:only-of-type {\n",
       "        vertical-align: middle;\n",
       "    }\n",
       "\n",
       "    .dataframe tbody tr th {\n",
       "        vertical-align: top;\n",
       "    }\n",
       "\n",
       "    .dataframe thead th {\n",
       "        text-align: right;\n",
       "    }\n",
       "</style>\n",
       "<table border=\"1\" class=\"dataframe\">\n",
       "  <thead>\n",
       "    <tr style=\"text-align: right;\">\n",
       "      <th></th>\n",
       "      <th>id</th>\n",
       "      <th>host_since</th>\n",
       "      <th>host_location</th>\n",
       "      <th>host_neighbourhood</th>\n",
       "      <th>description</th>\n",
       "      <th>neighbourhood</th>\n",
       "      <th>latitude</th>\n",
       "      <th>longitude</th>\n",
       "      <th>property_type</th>\n",
       "      <th>room_type</th>\n",
       "      <th>accommodates</th>\n",
       "      <th>bathrooms</th>\n",
       "      <th>bathrooms_text</th>\n",
       "      <th>bedrooms</th>\n",
       "      <th>beds</th>\n",
       "      <th>price</th>\n",
       "      <th>review_scores_rating</th>\n",
       "      <th>minimum_nights</th>\n",
       "    </tr>\n",
       "  </thead>\n",
       "  <tbody>\n",
       "    <tr>\n",
       "      <th>78</th>\n",
       "      <td>33014</td>\n",
       "      <td>2010-06-12</td>\n",
       "      <td>New York, New York, United States</td>\n",
       "      <td>Alphabet City</td>\n",
       "      <td>That's the view from our window!  This is our apartment.  We travel quite a bit and happy to share our place with  mellow tidy people. It is quite big for NYC at 700sq ft : 2 real bedrooms, one wi...</td>\n",
       "      <td>New York, United States</td>\n",
       "      <td>40.72367</td>\n",
       "      <td>-73.98139</td>\n",
       "      <td>Entire rental unit</td>\n",
       "      <td>Entire home/apt</td>\n",
       "      <td>3</td>\n",
       "      <td>NaN</td>\n",
       "      <td>1 bath</td>\n",
       "      <td>2.0</td>\n",
       "      <td>2.0</td>\n",
       "      <td>$125.00</td>\n",
       "      <td>4.41</td>\n",
       "      <td>1</td>\n",
       "    </tr>\n",
       "  </tbody>\n",
       "</table>\n",
       "</div>"
      ],
      "text/plain": [
       "       id  host_since                      host_location host_neighbourhood  \\\n",
       "78  33014  2010-06-12  New York, New York, United States      Alphabet City   \n",
       "\n",
       "                                                                                                                                                                                                description  \\\n",
       "78  That's the view from our window!  This is our apartment.  We travel quite a bit and happy to share our place with  mellow tidy people. It is quite big for NYC at 700sq ft : 2 real bedrooms, one wi...   \n",
       "\n",
       "              neighbourhood  latitude  longitude       property_type  \\\n",
       "78  New York, United States  40.72367  -73.98139  Entire rental unit   \n",
       "\n",
       "          room_type  accommodates  bathrooms bathrooms_text  bedrooms  beds  \\\n",
       "78  Entire home/apt             3        NaN         1 bath       2.0   2.0   \n",
       "\n",
       "      price  review_scores_rating  minimum_nights  \n",
       "78  $125.00                  4.41               1  "
      ]
     },
     "execution_count": 5,
     "metadata": {},
     "output_type": "execute_result"
    }
   ],
   "source": [
    "# choose property type & minimum_nights=1（short term demand）\n",
    "\n",
    "# df_listing=df_listing[df_listing[\"property_type\"].isin([\"Entire rental unit\",\"Entire residential home\",\"Entire condominium (condo)\",\"Entire guest suite\"])].copy()\n",
    "df_listing=df_listing[df_listing[\"property_type\"].isin([\"Entire rental unit\"])].copy()\n",
    "df_listing=df_listing[df_listing[\"minimum_nights\"]==1]\n",
    "df_listing=df_listing[useful_cols].copy()\n",
    "\n",
    "df_listing.head(1)"
   ]
  },
  {
   "cell_type": "code",
   "execution_count": 6,
   "id": "2c10513f",
   "metadata": {},
   "outputs": [],
   "source": [
    "#choose host_since before 2021-01-01，since our the date of demand data is from 2021-12-04, in this way, the listings last for at least one year\n",
    "#the sample we chose is representative. If they come from new listings, they are not representative\n",
    "\n",
    "df_listing[\"host_since\"]=pd.to_datetime(df_listing[\"host_since\"])\n",
    "df_listing=df_listing[df_listing[\"host_since\"]<='2021-01-01'].copy()"
   ]
  },
  {
   "cell_type": "code",
   "execution_count": 7,
   "id": "27d60cf2",
   "metadata": {},
   "outputs": [],
   "source": [
    "# clean bathroom characteristic\n",
    "\n",
    "def extract_bathroom_type(text):\n",
    "    if \"shared\" in str(text).lower():\n",
    "        return \"shared\"\n",
    "    else:\n",
    "        return \"private\"\n",
    "\n",
    "def extract_n_bathrooms(text):\n",
    "    if \"half\" in str(text).lower():\n",
    "        return 0.5\n",
    "    elif len(re.findall(r'(\\d+\\.?\\d*)',str(text)))>0:\n",
    "        return eval(re.findall(r'(\\d+\\.?\\d*)',str(text))[0])\n",
    "    else:\n",
    "        return 0\n",
    "    \n",
    "df_listing[\"bathrooms\"]=df_listing[\"bathrooms_text\"].map(extract_n_bathrooms)\n",
    "# df_listing[\"bathroom_type\"]=df_listing[\"bathrooms_text\"].map(extract_bathroom_type)\n",
    "\n",
    "df_listing[\"price\"]=df_listing[\"price\"].map(lambda x: eval(x.replace(\"$\",\"\").replace(\",\",\"\")))\n",
    "\n",
    "df_listing=df_listing.drop([\"bathrooms_text\",\"minimum_nights\"],axis=1)"
   ]
  },
  {
   "cell_type": "code",
   "execution_count": 8,
   "id": "2a69e8a3",
   "metadata": {},
   "outputs": [
    {
     "data": {
      "text/html": [
       "<div>\n",
       "<style scoped>\n",
       "    .dataframe tbody tr th:only-of-type {\n",
       "        vertical-align: middle;\n",
       "    }\n",
       "\n",
       "    .dataframe tbody tr th {\n",
       "        vertical-align: top;\n",
       "    }\n",
       "\n",
       "    .dataframe thead th {\n",
       "        text-align: right;\n",
       "    }\n",
       "</style>\n",
       "<table border=\"1\" class=\"dataframe\">\n",
       "  <thead>\n",
       "    <tr style=\"text-align: right;\">\n",
       "      <th></th>\n",
       "      <th>id</th>\n",
       "      <th>host_since</th>\n",
       "      <th>host_neighbourhood</th>\n",
       "      <th>description</th>\n",
       "      <th>latitude</th>\n",
       "      <th>longitude</th>\n",
       "      <th>accommodates</th>\n",
       "      <th>bathrooms</th>\n",
       "      <th>bedrooms</th>\n",
       "      <th>price</th>\n",
       "      <th>review_scores_rating</th>\n",
       "    </tr>\n",
       "  </thead>\n",
       "  <tbody>\n",
       "    <tr>\n",
       "      <th>78</th>\n",
       "      <td>33014</td>\n",
       "      <td>2010-06-12</td>\n",
       "      <td>Alphabet City</td>\n",
       "      <td>That's the view from our window!  This is our apartment.  We travel quite a bit and happy to share our place with  mellow tidy people. It is quite big for NYC at 700sq ft : 2 real bedrooms, one wi...</td>\n",
       "      <td>40.72367</td>\n",
       "      <td>-73.98139</td>\n",
       "      <td>3</td>\n",
       "      <td>1.0</td>\n",
       "      <td>2.0</td>\n",
       "      <td>125.0</td>\n",
       "      <td>4.41</td>\n",
       "    </tr>\n",
       "    <tr>\n",
       "      <th>155</th>\n",
       "      <td>65425</td>\n",
       "      <td>2010-12-10</td>\n",
       "      <td>Lower East Side</td>\n",
       "      <td>Airbnb made an error duplicating my apartment listing.  Please message me first, do not request to book.&lt;br /&gt;&lt;br /&gt;Thank you&lt;br /&gt;&lt;br /&gt;&lt;b&gt;The space&lt;/b&gt;&lt;br /&gt;2 Bedroom apartment, Chrystie st and ...</td>\n",
       "      <td>40.72021</td>\n",
       "      <td>-73.99426</td>\n",
       "      <td>7</td>\n",
       "      <td>1.0</td>\n",
       "      <td>2.0</td>\n",
       "      <td>399.0</td>\n",
       "      <td>5.00</td>\n",
       "    </tr>\n",
       "    <tr>\n",
       "      <th>161</th>\n",
       "      <td>66275</td>\n",
       "      <td>2010-12-10</td>\n",
       "      <td>Lower East Side</td>\n",
       "      <td>DO NOT reserve this apartment without contacting me!!!!!&lt;br /&gt;Scroll down and \"CONTACT HOST\" first.&lt;br /&gt;&lt;br /&gt;Thank you for visiting my Apartment!&lt;br /&gt;I used to live in this great apartment and ...</td>\n",
       "      <td>40.72036</td>\n",
       "      <td>-73.99435</td>\n",
       "      <td>7</td>\n",
       "      <td>1.0</td>\n",
       "      <td>2.0</td>\n",
       "      <td>485.0</td>\n",
       "      <td>4.86</td>\n",
       "    </tr>\n",
       "    <tr>\n",
       "      <th>204</th>\n",
       "      <td>94209</td>\n",
       "      <td>2011-04-12</td>\n",
       "      <td>Crown Heights</td>\n",
       "      <td>Bright pre-war 1BR w/ high ceilings and a classic brooklyn feel! Comfortably fits up to 4ppl w/ 2 queen beds separated by a lightweight linen partition. Centrally located and half a block from the...</td>\n",
       "      <td>40.67654</td>\n",
       "      <td>-73.94629</td>\n",
       "      <td>4</td>\n",
       "      <td>1.0</td>\n",
       "      <td>1.0</td>\n",
       "      <td>101.0</td>\n",
       "      <td>4.88</td>\n",
       "    </tr>\n",
       "    <tr>\n",
       "      <th>296</th>\n",
       "      <td>179741</td>\n",
       "      <td>2010-12-10</td>\n",
       "      <td>Lower East Side</td>\n",
       "      <td>DO NOT book my apartment before contacting me first.  Please scroll down, “contact host” and message me if available.  Usually, i wil reply very fast!&lt;br /&gt;&lt;br /&gt;&lt;b&gt;The space&lt;/b&gt;&lt;br /&gt;DO NOT reque...</td>\n",
       "      <td>40.72212</td>\n",
       "      <td>-73.99638</td>\n",
       "      <td>6</td>\n",
       "      <td>1.0</td>\n",
       "      <td>2.0</td>\n",
       "      <td>526.0</td>\n",
       "      <td>4.94</td>\n",
       "    </tr>\n",
       "  </tbody>\n",
       "</table>\n",
       "</div>"
      ],
      "text/plain": [
       "         id host_since host_neighbourhood  \\\n",
       "78    33014 2010-06-12      Alphabet City   \n",
       "155   65425 2010-12-10    Lower East Side   \n",
       "161   66275 2010-12-10    Lower East Side   \n",
       "204   94209 2011-04-12      Crown Heights   \n",
       "296  179741 2010-12-10    Lower East Side   \n",
       "\n",
       "                                                                                                                                                                                                 description  \\\n",
       "78   That's the view from our window!  This is our apartment.  We travel quite a bit and happy to share our place with  mellow tidy people. It is quite big for NYC at 700sq ft : 2 real bedrooms, one wi...   \n",
       "155  Airbnb made an error duplicating my apartment listing.  Please message me first, do not request to book.<br /><br />Thank you<br /><br /><b>The space</b><br />2 Bedroom apartment, Chrystie st and ...   \n",
       "161  DO NOT reserve this apartment without contacting me!!!!!<br />Scroll down and \"CONTACT HOST\" first.<br /><br />Thank you for visiting my Apartment!<br />I used to live in this great apartment and ...   \n",
       "204  Bright pre-war 1BR w/ high ceilings and a classic brooklyn feel! Comfortably fits up to 4ppl w/ 2 queen beds separated by a lightweight linen partition. Centrally located and half a block from the...   \n",
       "296  DO NOT book my apartment before contacting me first.  Please scroll down, “contact host” and message me if available.  Usually, i wil reply very fast!<br /><br /><b>The space</b><br />DO NOT reque...   \n",
       "\n",
       "     latitude  longitude  accommodates  bathrooms  bedrooms  price  \\\n",
       "78   40.72367  -73.98139             3        1.0       2.0  125.0   \n",
       "155  40.72021  -73.99426             7        1.0       2.0  399.0   \n",
       "161  40.72036  -73.99435             7        1.0       2.0  485.0   \n",
       "204  40.67654  -73.94629             4        1.0       1.0  101.0   \n",
       "296  40.72212  -73.99638             6        1.0       2.0  526.0   \n",
       "\n",
       "     review_scores_rating  \n",
       "78                   4.41  \n",
       "155                  5.00  \n",
       "161                  4.86  \n",
       "204                  4.88  \n",
       "296                  4.94  "
      ]
     },
     "execution_count": 8,
     "metadata": {},
     "output_type": "execute_result"
    }
   ],
   "source": [
    "# delete the useless variable\n",
    "\n",
    "df_listing=df_listing.drop([\"property_type\",\"room_type\",\"neighbourhood\",\"host_location\",\"beds\"],axis=1)\n",
    "# df_listing=df_listing.drop([\"property_type\",\"room_type\",\"neighbourhood\",\"host_location\",\"host_neighbourhood\",\"beds\"],axis=1)\n",
    "\n",
    "df_listing.head()"
   ]
  },
  {
   "cell_type": "markdown",
   "id": "fd6ca3a1",
   "metadata": {},
   "source": [
    "# Prepare demand data\n",
    "\n",
    "+ In the calendar table, the column of available represents that the availability of listing in the future\n",
    "+ available: T nobody rent， availble: F somebody rent\n",
    "+ According to calendar, we compute the demand (occupation_rate) in the next 30 days after 2021-12-04 "
   ]
  },
  {
   "cell_type": "code",
   "execution_count": 9,
   "id": "bd8866e0",
   "metadata": {},
   "outputs": [
    {
     "data": {
      "text/html": [
       "<div>\n",
       "<style scoped>\n",
       "    .dataframe tbody tr th:only-of-type {\n",
       "        vertical-align: middle;\n",
       "    }\n",
       "\n",
       "    .dataframe tbody tr th {\n",
       "        vertical-align: top;\n",
       "    }\n",
       "\n",
       "    .dataframe thead th {\n",
       "        text-align: right;\n",
       "    }\n",
       "</style>\n",
       "<table border=\"1\" class=\"dataframe\">\n",
       "  <thead>\n",
       "    <tr style=\"text-align: right;\">\n",
       "      <th></th>\n",
       "      <th>listing_id</th>\n",
       "      <th>date</th>\n",
       "      <th>available</th>\n",
       "      <th>price</th>\n",
       "      <th>adjusted_price</th>\n",
       "      <th>minimum_nights</th>\n",
       "      <th>maximum_nights</th>\n",
       "    </tr>\n",
       "  </thead>\n",
       "  <tbody>\n",
       "    <tr>\n",
       "      <th>0</th>\n",
       "      <td>2595</td>\n",
       "      <td>2021-12-05</td>\n",
       "      <td>f</td>\n",
       "      <td>$150.00</td>\n",
       "      <td>$150.00</td>\n",
       "      <td>30.0</td>\n",
       "      <td>1125.0</td>\n",
       "    </tr>\n",
       "    <tr>\n",
       "      <th>1</th>\n",
       "      <td>65615</td>\n",
       "      <td>2021-12-05</td>\n",
       "      <td>f</td>\n",
       "      <td>$85.00</td>\n",
       "      <td>$85.00</td>\n",
       "      <td>10.0</td>\n",
       "      <td>1125.0</td>\n",
       "    </tr>\n",
       "    <tr>\n",
       "      <th>2</th>\n",
       "      <td>65615</td>\n",
       "      <td>2021-12-06</td>\n",
       "      <td>f</td>\n",
       "      <td>$85.00</td>\n",
       "      <td>$85.00</td>\n",
       "      <td>10.0</td>\n",
       "      <td>1125.0</td>\n",
       "    </tr>\n",
       "    <tr>\n",
       "      <th>3</th>\n",
       "      <td>65615</td>\n",
       "      <td>2021-12-07</td>\n",
       "      <td>f</td>\n",
       "      <td>$85.00</td>\n",
       "      <td>$85.00</td>\n",
       "      <td>10.0</td>\n",
       "      <td>1125.0</td>\n",
       "    </tr>\n",
       "    <tr>\n",
       "      <th>4</th>\n",
       "      <td>65615</td>\n",
       "      <td>2021-12-08</td>\n",
       "      <td>f</td>\n",
       "      <td>$85.00</td>\n",
       "      <td>$85.00</td>\n",
       "      <td>10.0</td>\n",
       "      <td>1125.0</td>\n",
       "    </tr>\n",
       "  </tbody>\n",
       "</table>\n",
       "</div>"
      ],
      "text/plain": [
       "   listing_id       date available    price adjusted_price  minimum_nights  \\\n",
       "0        2595 2021-12-05         f  $150.00        $150.00            30.0   \n",
       "1       65615 2021-12-05         f   $85.00         $85.00            10.0   \n",
       "2       65615 2021-12-06         f   $85.00         $85.00            10.0   \n",
       "3       65615 2021-12-07         f   $85.00         $85.00            10.0   \n",
       "4       65615 2021-12-08         f   $85.00         $85.00            10.0   \n",
       "\n",
       "   maximum_nights  \n",
       "0          1125.0  \n",
       "1          1125.0  \n",
       "2          1125.0  \n",
       "3          1125.0  \n",
       "4          1125.0  "
      ]
     },
     "execution_count": 9,
     "metadata": {},
     "output_type": "execute_result"
    }
   ],
   "source": [
    "df_calendar=pd.read_csv(\"./airbnb_newyork/calendar.csv\")\n",
    "df_calendar[\"date\"]=pd.to_datetime(df_calendar[\"date\"])\n",
    "df_calendar.head()"
   ]
  },
  {
   "cell_type": "code",
   "execution_count": 10,
   "id": "279e841a",
   "metadata": {},
   "outputs": [
    {
     "data": {
      "text/html": [
       "<div>\n",
       "<style scoped>\n",
       "    .dataframe tbody tr th:only-of-type {\n",
       "        vertical-align: middle;\n",
       "    }\n",
       "\n",
       "    .dataframe tbody tr th {\n",
       "        vertical-align: top;\n",
       "    }\n",
       "\n",
       "    .dataframe thead th {\n",
       "        text-align: right;\n",
       "    }\n",
       "</style>\n",
       "<table border=\"1\" class=\"dataframe\">\n",
       "  <thead>\n",
       "    <tr style=\"text-align: right;\">\n",
       "      <th></th>\n",
       "      <th>id</th>\n",
       "      <th>not_available_days</th>\n",
       "      <th>available_days</th>\n",
       "      <th>occupation_rate</th>\n",
       "    </tr>\n",
       "  </thead>\n",
       "  <tbody>\n",
       "    <tr>\n",
       "      <th>0</th>\n",
       "      <td>2595</td>\n",
       "      <td>27.0</td>\n",
       "      <td>3.0</td>\n",
       "      <td>0.900000</td>\n",
       "    </tr>\n",
       "    <tr>\n",
       "      <th>1</th>\n",
       "      <td>3831</td>\n",
       "      <td>27.0</td>\n",
       "      <td>3.0</td>\n",
       "      <td>0.900000</td>\n",
       "    </tr>\n",
       "    <tr>\n",
       "      <th>2</th>\n",
       "      <td>5121</td>\n",
       "      <td>0.0</td>\n",
       "      <td>30.0</td>\n",
       "      <td>0.000000</td>\n",
       "    </tr>\n",
       "    <tr>\n",
       "      <th>3</th>\n",
       "      <td>5136</td>\n",
       "      <td>27.0</td>\n",
       "      <td>3.0</td>\n",
       "      <td>0.900000</td>\n",
       "    </tr>\n",
       "    <tr>\n",
       "      <th>4</th>\n",
       "      <td>5178</td>\n",
       "      <td>29.0</td>\n",
       "      <td>1.0</td>\n",
       "      <td>0.966667</td>\n",
       "    </tr>\n",
       "  </tbody>\n",
       "</table>\n",
       "</div>"
      ],
      "text/plain": [
       "     id  not_available_days  available_days  occupation_rate\n",
       "0  2595                27.0             3.0         0.900000\n",
       "1  3831                27.0             3.0         0.900000\n",
       "2  5121                 0.0            30.0         0.000000\n",
       "3  5136                27.0             3.0         0.900000\n",
       "4  5178                29.0             1.0         0.966667"
      ]
     },
     "execution_count": 10,
     "metadata": {},
     "output_type": "execute_result"
    }
   ],
   "source": [
    "\n",
    "df_calendar=df_calendar[df_calendar[\"date\"]<'2022-01-04'].copy()\n",
    "\n",
    "df_calendar_stats30=df_calendar.pivot_table(index=\"listing_id\",columns=\"available\",values=\"date\",aggfunc=\"count\").fillna(0).reset_index()\n",
    "df_calendar_stats30.columns=[\"id\",\"not_available_days\",\"available_days\"]\n",
    "df_calendar_stats30[\"occupation_rate\"]=df_calendar_stats30[\"not_available_days\"]/(df_calendar_stats30[\"not_available_days\"]+df_calendar_stats30[\"available_days\"])\n",
    "\n",
    "\n",
    "\n",
    "df_calendar_stats30.head()"
   ]
  },
  {
   "cell_type": "code",
   "execution_count": 11,
   "id": "8725b9ae",
   "metadata": {},
   "outputs": [
    {
     "data": {
      "text/html": [
       "<div>\n",
       "<style scoped>\n",
       "    .dataframe tbody tr th:only-of-type {\n",
       "        vertical-align: middle;\n",
       "    }\n",
       "\n",
       "    .dataframe tbody tr th {\n",
       "        vertical-align: top;\n",
       "    }\n",
       "\n",
       "    .dataframe thead th {\n",
       "        text-align: right;\n",
       "    }\n",
       "</style>\n",
       "<table border=\"1\" class=\"dataframe\">\n",
       "  <thead>\n",
       "    <tr style=\"text-align: right;\">\n",
       "      <th></th>\n",
       "      <th>id</th>\n",
       "      <th>host_since</th>\n",
       "      <th>host_neighbourhood</th>\n",
       "      <th>description</th>\n",
       "      <th>latitude</th>\n",
       "      <th>longitude</th>\n",
       "      <th>accommodates</th>\n",
       "      <th>bathrooms</th>\n",
       "      <th>bedrooms</th>\n",
       "      <th>price</th>\n",
       "      <th>review_scores_rating</th>\n",
       "      <th>occupation_rate</th>\n",
       "    </tr>\n",
       "  </thead>\n",
       "  <tbody>\n",
       "    <tr>\n",
       "      <th>0</th>\n",
       "      <td>33014</td>\n",
       "      <td>2010-06-12</td>\n",
       "      <td>Alphabet City</td>\n",
       "      <td>That's the view from our window!  This is our apartment.  We travel quite a bit and happy to share our place with  mellow tidy people. It is quite big for NYC at 700sq ft : 2 real bedrooms, one wi...</td>\n",
       "      <td>40.72367</td>\n",
       "      <td>-73.98139</td>\n",
       "      <td>3</td>\n",
       "      <td>1.0</td>\n",
       "      <td>2.0</td>\n",
       "      <td>125.0</td>\n",
       "      <td>4.41</td>\n",
       "      <td>0.933333</td>\n",
       "    </tr>\n",
       "    <tr>\n",
       "      <th>1</th>\n",
       "      <td>65425</td>\n",
       "      <td>2010-12-10</td>\n",
       "      <td>Lower East Side</td>\n",
       "      <td>Airbnb made an error duplicating my apartment listing.  Please message me first, do not request to book.&lt;br /&gt;&lt;br /&gt;Thank you&lt;br /&gt;&lt;br /&gt;&lt;b&gt;The space&lt;/b&gt;&lt;br /&gt;2 Bedroom apartment, Chrystie st and ...</td>\n",
       "      <td>40.72021</td>\n",
       "      <td>-73.99426</td>\n",
       "      <td>7</td>\n",
       "      <td>1.0</td>\n",
       "      <td>2.0</td>\n",
       "      <td>399.0</td>\n",
       "      <td>5.00</td>\n",
       "      <td>0.933333</td>\n",
       "    </tr>\n",
       "    <tr>\n",
       "      <th>2</th>\n",
       "      <td>66275</td>\n",
       "      <td>2010-12-10</td>\n",
       "      <td>Lower East Side</td>\n",
       "      <td>DO NOT reserve this apartment without contacting me!!!!!&lt;br /&gt;Scroll down and \"CONTACT HOST\" first.&lt;br /&gt;&lt;br /&gt;Thank you for visiting my Apartment!&lt;br /&gt;I used to live in this great apartment and ...</td>\n",
       "      <td>40.72036</td>\n",
       "      <td>-73.99435</td>\n",
       "      <td>7</td>\n",
       "      <td>1.0</td>\n",
       "      <td>2.0</td>\n",
       "      <td>485.0</td>\n",
       "      <td>4.86</td>\n",
       "      <td>0.466667</td>\n",
       "    </tr>\n",
       "    <tr>\n",
       "      <th>3</th>\n",
       "      <td>94209</td>\n",
       "      <td>2011-04-12</td>\n",
       "      <td>Crown Heights</td>\n",
       "      <td>Bright pre-war 1BR w/ high ceilings and a classic brooklyn feel! Comfortably fits up to 4ppl w/ 2 queen beds separated by a lightweight linen partition. Centrally located and half a block from the...</td>\n",
       "      <td>40.67654</td>\n",
       "      <td>-73.94629</td>\n",
       "      <td>4</td>\n",
       "      <td>1.0</td>\n",
       "      <td>1.0</td>\n",
       "      <td>101.0</td>\n",
       "      <td>4.88</td>\n",
       "      <td>0.966667</td>\n",
       "    </tr>\n",
       "    <tr>\n",
       "      <th>4</th>\n",
       "      <td>179741</td>\n",
       "      <td>2010-12-10</td>\n",
       "      <td>Lower East Side</td>\n",
       "      <td>DO NOT book my apartment before contacting me first.  Please scroll down, “contact host” and message me if available.  Usually, i wil reply very fast!&lt;br /&gt;&lt;br /&gt;&lt;b&gt;The space&lt;/b&gt;&lt;br /&gt;DO NOT reque...</td>\n",
       "      <td>40.72212</td>\n",
       "      <td>-73.99638</td>\n",
       "      <td>6</td>\n",
       "      <td>1.0</td>\n",
       "      <td>2.0</td>\n",
       "      <td>526.0</td>\n",
       "      <td>4.94</td>\n",
       "      <td>0.500000</td>\n",
       "    </tr>\n",
       "  </tbody>\n",
       "</table>\n",
       "</div>"
      ],
      "text/plain": [
       "       id host_since host_neighbourhood  \\\n",
       "0   33014 2010-06-12      Alphabet City   \n",
       "1   65425 2010-12-10    Lower East Side   \n",
       "2   66275 2010-12-10    Lower East Side   \n",
       "3   94209 2011-04-12      Crown Heights   \n",
       "4  179741 2010-12-10    Lower East Side   \n",
       "\n",
       "                                                                                                                                                                                               description  \\\n",
       "0  That's the view from our window!  This is our apartment.  We travel quite a bit and happy to share our place with  mellow tidy people. It is quite big for NYC at 700sq ft : 2 real bedrooms, one wi...   \n",
       "1  Airbnb made an error duplicating my apartment listing.  Please message me first, do not request to book.<br /><br />Thank you<br /><br /><b>The space</b><br />2 Bedroom apartment, Chrystie st and ...   \n",
       "2  DO NOT reserve this apartment without contacting me!!!!!<br />Scroll down and \"CONTACT HOST\" first.<br /><br />Thank you for visiting my Apartment!<br />I used to live in this great apartment and ...   \n",
       "3  Bright pre-war 1BR w/ high ceilings and a classic brooklyn feel! Comfortably fits up to 4ppl w/ 2 queen beds separated by a lightweight linen partition. Centrally located and half a block from the...   \n",
       "4  DO NOT book my apartment before contacting me first.  Please scroll down, “contact host” and message me if available.  Usually, i wil reply very fast!<br /><br /><b>The space</b><br />DO NOT reque...   \n",
       "\n",
       "   latitude  longitude  accommodates  bathrooms  bedrooms  price  \\\n",
       "0  40.72367  -73.98139             3        1.0       2.0  125.0   \n",
       "1  40.72021  -73.99426             7        1.0       2.0  399.0   \n",
       "2  40.72036  -73.99435             7        1.0       2.0  485.0   \n",
       "3  40.67654  -73.94629             4        1.0       1.0  101.0   \n",
       "4  40.72212  -73.99638             6        1.0       2.0  526.0   \n",
       "\n",
       "   review_scores_rating  occupation_rate  \n",
       "0                  4.41         0.933333  \n",
       "1                  5.00         0.933333  \n",
       "2                  4.86         0.466667  \n",
       "3                  4.88         0.966667  \n",
       "4                  4.94         0.500000  "
      ]
     },
     "execution_count": 11,
     "metadata": {},
     "output_type": "execute_result"
    }
   ],
   "source": [
    "#  merge the demand data with listing data\n",
    "\n",
    "df_listing=pd.merge(df_listing,df_calendar_stats30[[\"id\",\"occupation_rate\"]],on=\"id\")\n",
    "df_listing.head()"
   ]
  },
  {
   "cell_type": "code",
   "execution_count": 12,
   "id": "b2f78ce8",
   "metadata": {},
   "outputs": [
    {
     "data": {
      "text/html": [
       "<div>\n",
       "<style scoped>\n",
       "    .dataframe tbody tr th:only-of-type {\n",
       "        vertical-align: middle;\n",
       "    }\n",
       "\n",
       "    .dataframe tbody tr th {\n",
       "        vertical-align: top;\n",
       "    }\n",
       "\n",
       "    .dataframe thead th {\n",
       "        text-align: right;\n",
       "    }\n",
       "</style>\n",
       "<table border=\"1\" class=\"dataframe\">\n",
       "  <thead>\n",
       "    <tr style=\"text-align: right;\">\n",
       "      <th></th>\n",
       "      <th>feature</th>\n",
       "      <th>dtype</th>\n",
       "      <th>unique values</th>\n",
       "      <th>missing count</th>\n",
       "      <th>missing percentage</th>\n",
       "    </tr>\n",
       "  </thead>\n",
       "  <tbody>\n",
       "    <tr>\n",
       "      <th>2</th>\n",
       "      <td>host_neighbourhood</td>\n",
       "      <td>object</td>\n",
       "      <td>137</td>\n",
       "      <td>260</td>\n",
       "      <td>29.08%</td>\n",
       "    </tr>\n",
       "    <tr>\n",
       "      <th>8</th>\n",
       "      <td>bedrooms</td>\n",
       "      <td>float64</td>\n",
       "      <td>7</td>\n",
       "      <td>170</td>\n",
       "      <td>19.02%</td>\n",
       "    </tr>\n",
       "    <tr>\n",
       "      <th>10</th>\n",
       "      <td>review_scores_rating</td>\n",
       "      <td>float64</td>\n",
       "      <td>96</td>\n",
       "      <td>122</td>\n",
       "      <td>13.65%</td>\n",
       "    </tr>\n",
       "    <tr>\n",
       "      <th>3</th>\n",
       "      <td>description</td>\n",
       "      <td>object</td>\n",
       "      <td>832</td>\n",
       "      <td>23</td>\n",
       "      <td>2.57%</td>\n",
       "    </tr>\n",
       "    <tr>\n",
       "      <th>7</th>\n",
       "      <td>bathrooms</td>\n",
       "      <td>float64</td>\n",
       "      <td>10</td>\n",
       "      <td>0</td>\n",
       "      <td>0.00%</td>\n",
       "    </tr>\n",
       "    <tr>\n",
       "      <th>6</th>\n",
       "      <td>accommodates</td>\n",
       "      <td>int64</td>\n",
       "      <td>15</td>\n",
       "      <td>0</td>\n",
       "      <td>0.00%</td>\n",
       "    </tr>\n",
       "    <tr>\n",
       "      <th>11</th>\n",
       "      <td>occupation_rate</td>\n",
       "      <td>float64</td>\n",
       "      <td>33</td>\n",
       "      <td>0</td>\n",
       "      <td>0.00%</td>\n",
       "    </tr>\n",
       "    <tr>\n",
       "      <th>9</th>\n",
       "      <td>price</td>\n",
       "      <td>float64</td>\n",
       "      <td>302</td>\n",
       "      <td>0</td>\n",
       "      <td>0.00%</td>\n",
       "    </tr>\n",
       "    <tr>\n",
       "      <th>1</th>\n",
       "      <td>host_since</td>\n",
       "      <td>datetime64[ns]</td>\n",
       "      <td>611</td>\n",
       "      <td>0</td>\n",
       "      <td>0.00%</td>\n",
       "    </tr>\n",
       "    <tr>\n",
       "      <th>4</th>\n",
       "      <td>latitude</td>\n",
       "      <td>float64</td>\n",
       "      <td>847</td>\n",
       "      <td>0</td>\n",
       "      <td>0.00%</td>\n",
       "    </tr>\n",
       "    <tr>\n",
       "      <th>5</th>\n",
       "      <td>longitude</td>\n",
       "      <td>float64</td>\n",
       "      <td>854</td>\n",
       "      <td>0</td>\n",
       "      <td>0.00%</td>\n",
       "    </tr>\n",
       "    <tr>\n",
       "      <th>0</th>\n",
       "      <td>id</td>\n",
       "      <td>int64</td>\n",
       "      <td>894</td>\n",
       "      <td>0</td>\n",
       "      <td>0.00%</td>\n",
       "    </tr>\n",
       "  </tbody>\n",
       "</table>\n",
       "</div>"
      ],
      "text/plain": [
       "                 feature           dtype  unique values  missing count  \\\n",
       "2     host_neighbourhood          object            137            260   \n",
       "8               bedrooms         float64              7            170   \n",
       "10  review_scores_rating         float64             96            122   \n",
       "3            description          object            832             23   \n",
       "7              bathrooms         float64             10              0   \n",
       "6           accommodates           int64             15              0   \n",
       "11       occupation_rate         float64             33              0   \n",
       "9                  price         float64            302              0   \n",
       "1             host_since  datetime64[ns]            611              0   \n",
       "4               latitude         float64            847              0   \n",
       "5              longitude         float64            854              0   \n",
       "0                     id           int64            894              0   \n",
       "\n",
       "   missing percentage  \n",
       "2              29.08%  \n",
       "8              19.02%  \n",
       "10             13.65%  \n",
       "3               2.57%  \n",
       "7               0.00%  \n",
       "6               0.00%  \n",
       "11              0.00%  \n",
       "9               0.00%  \n",
       "1               0.00%  \n",
       "4               0.00%  \n",
       "5               0.00%  \n",
       "0               0.00%  "
      ]
     },
     "execution_count": 12,
     "metadata": {},
     "output_type": "execute_result"
    }
   ],
   "source": [
    "# Check the data information, data type, missing values, unqiue values count\n",
    "\n",
    "# missing value\n",
    "df_missing=df_listing.isnull().sum().reset_index()\n",
    "df_missing.columns=[\"feature\",\"missing count\"]\n",
    "df_missing[\"missing percentage\"]=df_missing[\"missing count\"]/df_listing.shape[0]\n",
    "df_missing[\"missing percentage\"]=df_missing[\"missing percentage\"].map(lambda x:\"{:0.2%}\".format(x))\n",
    "df_missing.sort_values(by=\"missing count\",ascending=False,inplace=True)\n",
    "\n",
    "# unique values count\n",
    "df_nunique=df_listing.nunique().reset_index()\n",
    "df_nunique.columns=[\"feature\",\"unique values\"]\n",
    "\n",
    "# data types\n",
    "df_types=df_listing.dtypes.reset_index()\n",
    "df_types.columns=[\"feature\",\"dtype\"]\n",
    "\n",
    "# merge\n",
    "df_stats=pd.merge(df_types,df_nunique,on=\"feature\")\n",
    "df_stats=pd.merge(df_stats,df_missing,on=\"feature\")\n",
    "\n",
    "# sort df\n",
    "df_stats=df_stats.sort_values(by=[\"missing count\",\"unique values\"],ascending=[False,True])\n",
    "\n",
    "df_stats"
   ]
  },
  {
   "cell_type": "code",
   "execution_count": 13,
   "id": "34ca7ffa",
   "metadata": {},
   "outputs": [
    {
     "data": {
      "text/html": [
       "<div>\n",
       "<style scoped>\n",
       "    .dataframe tbody tr th:only-of-type {\n",
       "        vertical-align: middle;\n",
       "    }\n",
       "\n",
       "    .dataframe tbody tr th {\n",
       "        vertical-align: top;\n",
       "    }\n",
       "\n",
       "    .dataframe thead th {\n",
       "        text-align: right;\n",
       "    }\n",
       "</style>\n",
       "<table border=\"1\" class=\"dataframe\">\n",
       "  <thead>\n",
       "    <tr style=\"text-align: right;\">\n",
       "      <th></th>\n",
       "      <th>id</th>\n",
       "      <th>host_since</th>\n",
       "      <th>host_neighbourhood</th>\n",
       "      <th>description</th>\n",
       "      <th>latitude</th>\n",
       "      <th>longitude</th>\n",
       "      <th>accommodates</th>\n",
       "      <th>bathrooms</th>\n",
       "      <th>bedrooms</th>\n",
       "      <th>price</th>\n",
       "      <th>review_scores_rating</th>\n",
       "      <th>occupation_rate</th>\n",
       "    </tr>\n",
       "  </thead>\n",
       "  <tbody>\n",
       "    <tr>\n",
       "      <th>0</th>\n",
       "      <td>33014</td>\n",
       "      <td>2010-06-12</td>\n",
       "      <td>Alphabet City</td>\n",
       "      <td>That's the view from our window!  This is our apartment.  We travel quite a bit and happy to share our place with  mellow tidy people. It is quite big for NYC at 700sq ft : 2 real bedrooms, one wi...</td>\n",
       "      <td>40.72367</td>\n",
       "      <td>-73.98139</td>\n",
       "      <td>3</td>\n",
       "      <td>1.0</td>\n",
       "      <td>2.0</td>\n",
       "      <td>125.0</td>\n",
       "      <td>4.41</td>\n",
       "      <td>0.933333</td>\n",
       "    </tr>\n",
       "    <tr>\n",
       "      <th>1</th>\n",
       "      <td>65425</td>\n",
       "      <td>2010-12-10</td>\n",
       "      <td>Lower East Side</td>\n",
       "      <td>Airbnb made an error duplicating my apartment listing.  Please message me first, do not request to book.&lt;br /&gt;&lt;br /&gt;Thank you&lt;br /&gt;&lt;br /&gt;&lt;b&gt;The space&lt;/b&gt;&lt;br /&gt;2 Bedroom apartment, Chrystie st and ...</td>\n",
       "      <td>40.72021</td>\n",
       "      <td>-73.99426</td>\n",
       "      <td>7</td>\n",
       "      <td>1.0</td>\n",
       "      <td>2.0</td>\n",
       "      <td>399.0</td>\n",
       "      <td>5.00</td>\n",
       "      <td>0.933333</td>\n",
       "    </tr>\n",
       "    <tr>\n",
       "      <th>2</th>\n",
       "      <td>66275</td>\n",
       "      <td>2010-12-10</td>\n",
       "      <td>Lower East Side</td>\n",
       "      <td>DO NOT reserve this apartment without contacting me!!!!!&lt;br /&gt;Scroll down and \"CONTACT HOST\" first.&lt;br /&gt;&lt;br /&gt;Thank you for visiting my Apartment!&lt;br /&gt;I used to live in this great apartment and ...</td>\n",
       "      <td>40.72036</td>\n",
       "      <td>-73.99435</td>\n",
       "      <td>7</td>\n",
       "      <td>1.0</td>\n",
       "      <td>2.0</td>\n",
       "      <td>485.0</td>\n",
       "      <td>4.86</td>\n",
       "      <td>0.466667</td>\n",
       "    </tr>\n",
       "    <tr>\n",
       "      <th>3</th>\n",
       "      <td>94209</td>\n",
       "      <td>2011-04-12</td>\n",
       "      <td>Crown Heights</td>\n",
       "      <td>Bright pre-war 1BR w/ high ceilings and a classic brooklyn feel! Comfortably fits up to 4ppl w/ 2 queen beds separated by a lightweight linen partition. Centrally located and half a block from the...</td>\n",
       "      <td>40.67654</td>\n",
       "      <td>-73.94629</td>\n",
       "      <td>4</td>\n",
       "      <td>1.0</td>\n",
       "      <td>1.0</td>\n",
       "      <td>101.0</td>\n",
       "      <td>4.88</td>\n",
       "      <td>0.966667</td>\n",
       "    </tr>\n",
       "    <tr>\n",
       "      <th>4</th>\n",
       "      <td>179741</td>\n",
       "      <td>2010-12-10</td>\n",
       "      <td>Lower East Side</td>\n",
       "      <td>DO NOT book my apartment before contacting me first.  Please scroll down, “contact host” and message me if available.  Usually, i wil reply very fast!&lt;br /&gt;&lt;br /&gt;&lt;b&gt;The space&lt;/b&gt;&lt;br /&gt;DO NOT reque...</td>\n",
       "      <td>40.72212</td>\n",
       "      <td>-73.99638</td>\n",
       "      <td>6</td>\n",
       "      <td>1.0</td>\n",
       "      <td>2.0</td>\n",
       "      <td>526.0</td>\n",
       "      <td>4.94</td>\n",
       "      <td>0.500000</td>\n",
       "    </tr>\n",
       "  </tbody>\n",
       "</table>\n",
       "</div>"
      ],
      "text/plain": [
       "       id host_since host_neighbourhood  \\\n",
       "0   33014 2010-06-12      Alphabet City   \n",
       "1   65425 2010-12-10    Lower East Side   \n",
       "2   66275 2010-12-10    Lower East Side   \n",
       "3   94209 2011-04-12      Crown Heights   \n",
       "4  179741 2010-12-10    Lower East Side   \n",
       "\n",
       "                                                                                                                                                                                               description  \\\n",
       "0  That's the view from our window!  This is our apartment.  We travel quite a bit and happy to share our place with  mellow tidy people. It is quite big for NYC at 700sq ft : 2 real bedrooms, one wi...   \n",
       "1  Airbnb made an error duplicating my apartment listing.  Please message me first, do not request to book.<br /><br />Thank you<br /><br /><b>The space</b><br />2 Bedroom apartment, Chrystie st and ...   \n",
       "2  DO NOT reserve this apartment without contacting me!!!!!<br />Scroll down and \"CONTACT HOST\" first.<br /><br />Thank you for visiting my Apartment!<br />I used to live in this great apartment and ...   \n",
       "3  Bright pre-war 1BR w/ high ceilings and a classic brooklyn feel! Comfortably fits up to 4ppl w/ 2 queen beds separated by a lightweight linen partition. Centrally located and half a block from the...   \n",
       "4  DO NOT book my apartment before contacting me first.  Please scroll down, “contact host” and message me if available.  Usually, i wil reply very fast!<br /><br /><b>The space</b><br />DO NOT reque...   \n",
       "\n",
       "   latitude  longitude  accommodates  bathrooms  bedrooms  price  \\\n",
       "0  40.72367  -73.98139             3        1.0       2.0  125.0   \n",
       "1  40.72021  -73.99426             7        1.0       2.0  399.0   \n",
       "2  40.72036  -73.99435             7        1.0       2.0  485.0   \n",
       "3  40.67654  -73.94629             4        1.0       1.0  101.0   \n",
       "4  40.72212  -73.99638             6        1.0       2.0  526.0   \n",
       "\n",
       "   review_scores_rating  occupation_rate  \n",
       "0                  4.41         0.933333  \n",
       "1                  5.00         0.933333  \n",
       "2                  4.86         0.466667  \n",
       "3                  4.88         0.966667  \n",
       "4                  4.94         0.500000  "
      ]
     },
     "execution_count": 13,
     "metadata": {},
     "output_type": "execute_result"
    }
   ],
   "source": [
    "df_listing.head()"
   ]
  },
  {
   "cell_type": "markdown",
   "id": "2415d09d",
   "metadata": {},
   "source": [
    "# Data Exploration eda"
   ]
  },
  {
   "cell_type": "code",
   "execution_count": 14,
   "id": "11d3a7af",
   "metadata": {},
   "outputs": [
    {
     "data": {
      "image/png": "[encoded data removed]",
      "text/plain": [
       "<Figure size 576x360 with 1 Axes>"
      ]
     },
     "metadata": {},
     "output_type": "display_data"
    }
   ],
   "source": [
    "# the distribution of occupation rate \n",
    "\n",
    "plt.figure(figsize=(8,5))\n",
    "\n",
    "sns.histplot(x=\"occupation_rate\",data=df_listing,bins=10,shrink=0.9)\n",
    "plt.title(\"Listing Occupation Rate Distribution\",fontsize=14)\n",
    "sns.despine()"
   ]
  },
  {
   "cell_type": "code",
   "execution_count": 15,
   "id": "930854bb",
   "metadata": {},
   "outputs": [
    {
     "data": {
      "image/png": "[encoded data removed]",
      "text/plain": [
       "<Figure size 576x360 with 1 Axes>"
      ]
     },
     "metadata": {},
     "output_type": "display_data"
    }
   ],
   "source": [
    "# the distribution of price\n",
    "\n",
    "plt.figure(figsize=(8,5))\n",
    "\n",
    "sns.histplot(x=\"price\",data=df_listing)\n",
    "plt.title(\"Listing Price Distribution(raw data)\",fontsize=14)\n",
    "sns.despine()"
   ]
  },
  {
   "cell_type": "markdown",
   "id": "5cfa3727",
   "metadata": {},
   "source": [
    "+ There are a few extreme high price. These are the outliers. We decided to use 1.5 IQR principle to remove such outliers"
   ]
  },
  {
   "cell_type": "code",
   "execution_count": 16,
   "id": "078dcfc1",
   "metadata": {},
   "outputs": [],
   "source": [
    "price_q1=df_listing[\"price\"].quantile(0.25)\n",
    "price_q3=df_listing[\"price\"].quantile(0.75)\n",
    "iqr=price_q3-price_q1\n",
    "\n",
    "lower_price=price_q1-1.5*iqr\n",
    "upper_price=price_q3+1.5*iqr\n",
    "\n",
    "condition=(df_listing[\"price\"]>100)&(df_listing[\"price\"]<=upper_price)\n",
    "df_listing=df_listing[condition].copy()"
   ]
  },
  {
   "cell_type": "code",
   "execution_count": 17,
   "id": "fc0c48e2",
   "metadata": {},
   "outputs": [
    {
     "data": {
      "image/png": "[encoded data removed]",
      "text/plain": [
       "<Figure size 576x360 with 1 Axes>"
      ]
     },
     "metadata": {},
     "output_type": "display_data"
    }
   ],
   "source": [
    "plt.figure(figsize=(8,5))\n",
    "\n",
    "sns.histplot(x=\"price\",data=df_listing,bins=20,kde=True,shrink=0.9)\n",
    "plt.title(\"Listing Price Distribution(remove outliers)\",fontsize=14)\n",
    "sns.despine()"
   ]
  },
  {
   "cell_type": "code",
   "execution_count": 18,
   "id": "b61793dc",
   "metadata": {},
   "outputs": [
    {
     "data": {
      "image/png": "[encoded data removed]",
      "text/plain": [
       "<Figure size 576x360 with 1 Axes>"
      ]
     },
     "metadata": {},
     "output_type": "display_data"
    }
   ],
   "source": [
    "# review_scores_rating\n",
    "\n",
    "rating_q1=df_listing[\"review_scores_rating\"].quantile(0.25)\n",
    "rating_q3=df_listing[\"review_scores_rating\"].quantile(0.75)\n",
    "iqr=rating_q3-rating_q1\n",
    "\n",
    "lower_rating=rating_q1-1.5*iqr\n",
    "upper_rating=rating_q3+1.5*iqr\n",
    "\n",
    "df_listing[\"review_scores_rating\"]=df_listing[\"review_scores_rating\"].map(lambda x: lower_rating if x< lower_rating else x)\n",
    "df_listing[\"review_scores_rating\"]=df_listing[\"review_scores_rating\"].map(lambda x: upper_rating if x>upper_rating else x)\n",
    "\n",
    "plt.figure(figsize=(8,5))\n",
    "\n",
    "sns.histplot(x=\"review_scores_rating\",data=df_listing,bins=20,kde=True,shrink=0.9)\n",
    "plt.title(\"Listing review_scores_rating Distribution\",fontsize=14)\n",
    "sns.despine()"
   ]
  },
  {
   "cell_type": "code",
   "execution_count": 19,
   "id": "2309f9d2",
   "metadata": {},
   "outputs": [
    {
     "data": {
      "image/png": "[encoded data removed]",
      "text/plain": [
       "<Figure size 576x360 with 1 Axes>"
      ]
     },
     "metadata": {},
     "output_type": "display_data"
    }
   ],
   "source": [
    "# the distribution of accommodates，use it to stand for the size of a house\n",
    "\n",
    "plt.figure(figsize=(8,5))\n",
    "\n",
    "sns.histplot(x=\"accommodates\",data=df_listing,bins=20,kde=True,shrink=0.9)\n",
    "plt.title(\"Listing Accommodates Distribution\",fontsize=14)\n",
    "sns.despine()"
   ]
  },
  {
   "cell_type": "code",
   "execution_count": 20,
   "id": "52c37d9b",
   "metadata": {},
   "outputs": [
    {
     "data": {
      "text/html": [
       "<div>\n",
       "<style scoped>\n",
       "    .dataframe tbody tr th:only-of-type {\n",
       "        vertical-align: middle;\n",
       "    }\n",
       "\n",
       "    .dataframe tbody tr th {\n",
       "        vertical-align: top;\n",
       "    }\n",
       "\n",
       "    .dataframe thead th {\n",
       "        text-align: right;\n",
       "    }\n",
       "</style>\n",
       "<table border=\"1\" class=\"dataframe\">\n",
       "  <thead>\n",
       "    <tr style=\"text-align: right;\">\n",
       "      <th></th>\n",
       "      <th>index</th>\n",
       "      <th>bedrooms</th>\n",
       "    </tr>\n",
       "  </thead>\n",
       "  <tbody>\n",
       "    <tr>\n",
       "      <th>0</th>\n",
       "      <td>1</td>\n",
       "      <td>341</td>\n",
       "    </tr>\n",
       "    <tr>\n",
       "      <th>1</th>\n",
       "      <td>2</td>\n",
       "      <td>177</td>\n",
       "    </tr>\n",
       "    <tr>\n",
       "      <th>2</th>\n",
       "      <td>3</td>\n",
       "      <td>33</td>\n",
       "    </tr>\n",
       "    <tr>\n",
       "      <th>3</th>\n",
       "      <td>4</td>\n",
       "      <td>5</td>\n",
       "    </tr>\n",
       "  </tbody>\n",
       "</table>\n",
       "</div>"
      ],
      "text/plain": [
       "   index  bedrooms\n",
       "0      1       341\n",
       "1      2       177\n",
       "2      3        33\n",
       "3      4         5"
      ]
     },
     "metadata": {},
     "output_type": "display_data"
    },
    {
     "data": {
      "image/png": "[encoded data removed]",
      "text/plain": [
       "<Figure size 432x432 with 1 Axes>"
      ]
     },
     "metadata": {},
     "output_type": "display_data"
    }
   ],
   "source": [
    "# bedrooms\n",
    "\n",
    "df_bedroom=df_listing[\"bedrooms\"].value_counts().reset_index()\n",
    "df_bedroom[\"index\"]=df_bedroom[\"index\"].astype(int)\n",
    "display(df_bedroom)\n",
    "\n",
    "# plot\n",
    "plt.figure(figsize=(6,6))\n",
    "plt.pie(x=df_bedroom[\"bedrooms\"],labels = df_bedroom[\"index\"],autopct='%0.2f%%'\n",
    "        ,startangle=15\n",
    "        ,explode=[0.01]*df_bedroom.shape[0]\n",
    "        ,colors=sns.color_palette(\"Blues\", n_colors=df_bedroom.shape[0]))\n",
    "\n",
    "circle=plt.Circle((0,0), 0.4, color='white')\n",
    "p=plt.gcf()\n",
    "p.gca().add_artist(circle)\n",
    "plt.title(\"Listing N Bedrooms Distribution\",fontsize=14)\n",
    "\n",
    "plt.show()\n",
    "\n",
    "\n"
   ]
  },
  {
   "cell_type": "markdown",
   "id": "c0e66ec0",
   "metadata": {},
   "source": [
    "# Cluster model\n",
    "\n",
    "+ The goal of make cluster analysis is to divide so many listings into several similar groups \n",
    "+ Assumption: The similar listings are applied to a same demand function \n",
    "+ Use three features to make cluster analysis, longitude, latitude represent for geographic location, the size of listing is evaluted by accommodates "
   ]
  },
  {
   "cell_type": "code",
   "execution_count": 21,
   "id": "6151475f",
   "metadata": {},
   "outputs": [
    {
     "data": {
      "text/html": [
       "<div>\n",
       "<style scoped>\n",
       "    .dataframe tbody tr th:only-of-type {\n",
       "        vertical-align: middle;\n",
       "    }\n",
       "\n",
       "    .dataframe tbody tr th {\n",
       "        vertical-align: top;\n",
       "    }\n",
       "\n",
       "    .dataframe thead th {\n",
       "        text-align: right;\n",
       "    }\n",
       "</style>\n",
       "<table border=\"1\" class=\"dataframe\">\n",
       "  <thead>\n",
       "    <tr style=\"text-align: right;\">\n",
       "      <th></th>\n",
       "      <th>latitude</th>\n",
       "      <th>longitude</th>\n",
       "      <th>accommodates</th>\n",
       "    </tr>\n",
       "  </thead>\n",
       "  <tbody>\n",
       "    <tr>\n",
       "      <th>0</th>\n",
       "      <td>40.72367</td>\n",
       "      <td>-73.98139</td>\n",
       "      <td>3</td>\n",
       "    </tr>\n",
       "    <tr>\n",
       "      <th>1</th>\n",
       "      <td>40.72021</td>\n",
       "      <td>-73.99426</td>\n",
       "      <td>7</td>\n",
       "    </tr>\n",
       "    <tr>\n",
       "      <th>3</th>\n",
       "      <td>40.67654</td>\n",
       "      <td>-73.94629</td>\n",
       "      <td>4</td>\n",
       "    </tr>\n",
       "    <tr>\n",
       "      <th>5</th>\n",
       "      <td>40.73693</td>\n",
       "      <td>-73.98129</td>\n",
       "      <td>2</td>\n",
       "    </tr>\n",
       "    <tr>\n",
       "      <th>6</th>\n",
       "      <td>40.68136</td>\n",
       "      <td>-73.96540</td>\n",
       "      <td>3</td>\n",
       "    </tr>\n",
       "  </tbody>\n",
       "</table>\n",
       "</div>"
      ],
      "text/plain": [
       "   latitude  longitude  accommodates\n",
       "0  40.72367  -73.98139             3\n",
       "1  40.72021  -73.99426             7\n",
       "3  40.67654  -73.94629             4\n",
       "5  40.73693  -73.98129             2\n",
       "6  40.68136  -73.96540             3"
      ]
     },
     "execution_count": 21,
     "metadata": {},
     "output_type": "execute_result"
    }
   ],
   "source": [
    "# df_cluster=df_listing[['latitude', 'longitude', 'property_type', 'room_type', 'accommodates', 'bathrooms', 'bedrooms', 'beds', 'bathroom_type']].copy()\n",
    "df_cluster=df_listing[['latitude', 'longitude', 'accommodates']].copy()\n",
    "\n",
    "# df_cluster=pd.get_dummies(data=df_cluster,columns=['property_type', 'room_type', 'bathroom_type'])\n",
    "# df_cluster=pd.get_dummies(data=df_cluster,columns=['property_type'])\n",
    "df_cluster.head()"
   ]
  },
  {
   "cell_type": "markdown",
   "id": "b4706e77",
   "metadata": {},
   "source": [
    "## Standardizing features"
   ]
  },
  {
   "cell_type": "code",
   "execution_count": 22,
   "id": "50c1a83f",
   "metadata": {},
   "outputs": [
    {
     "data": {
      "text/html": [
       "<div>\n",
       "<style scoped>\n",
       "    .dataframe tbody tr th:only-of-type {\n",
       "        vertical-align: middle;\n",
       "    }\n",
       "\n",
       "    .dataframe tbody tr th {\n",
       "        vertical-align: top;\n",
       "    }\n",
       "\n",
       "    .dataframe thead th {\n",
       "        text-align: right;\n",
       "    }\n",
       "</style>\n",
       "<table border=\"1\" class=\"dataframe\">\n",
       "  <thead>\n",
       "    <tr style=\"text-align: right;\">\n",
       "      <th></th>\n",
       "      <th>latitude</th>\n",
       "      <th>longitude</th>\n",
       "      <th>accommodates</th>\n",
       "    </tr>\n",
       "  </thead>\n",
       "  <tbody>\n",
       "    <tr>\n",
       "      <th>0</th>\n",
       "      <td>-0.118897</td>\n",
       "      <td>-0.621636</td>\n",
       "      <td>-0.495520</td>\n",
       "    </tr>\n",
       "    <tr>\n",
       "      <th>1</th>\n",
       "      <td>-0.179213</td>\n",
       "      <td>-0.843894</td>\n",
       "      <td>1.355491</td>\n",
       "    </tr>\n",
       "    <tr>\n",
       "      <th>2</th>\n",
       "      <td>-0.940485</td>\n",
       "      <td>-0.015477</td>\n",
       "      <td>-0.032767</td>\n",
       "    </tr>\n",
       "    <tr>\n",
       "      <th>3</th>\n",
       "      <td>0.112256</td>\n",
       "      <td>-0.619909</td>\n",
       "      <td>-0.958272</td>\n",
       "    </tr>\n",
       "    <tr>\n",
       "      <th>4</th>\n",
       "      <td>-0.856461</td>\n",
       "      <td>-0.345497</td>\n",
       "      <td>-0.495520</td>\n",
       "    </tr>\n",
       "  </tbody>\n",
       "</table>\n",
       "</div>"
      ],
      "text/plain": [
       "   latitude  longitude  accommodates\n",
       "0 -0.118897  -0.621636     -0.495520\n",
       "1 -0.179213  -0.843894      1.355491\n",
       "2 -0.940485  -0.015477     -0.032767\n",
       "3  0.112256  -0.619909     -0.958272\n",
       "4 -0.856461  -0.345497     -0.495520"
      ]
     },
     "execution_count": 22,
     "metadata": {},
     "output_type": "execute_result"
    }
   ],
   "source": [
    "# Before clustering, process standardization of each column\n",
    "\n",
    "kmeans_scaler=StandardScaler()\n",
    "\n",
    "kmeans_scaler.fit(df_cluster)\n",
    "\n",
    "df_cluster=pd.DataFrame(kmeans_scaler.transform(df_cluster),columns=[\"latitude\",\"longitude\",\"accommodates\"])\n",
    "df_cluster.head()"
   ]
  },
  {
   "cell_type": "markdown",
   "id": "ca1a4b34",
   "metadata": {},
   "source": [
    "## elbow chart: find an appropriate K value"
   ]
  },
  {
   "cell_type": "code",
   "execution_count": 23,
   "id": "e57ca7e7",
   "metadata": {},
   "outputs": [
    {
     "data": {
      "image/png": "[encoded data removed]",
      "text/plain": [
       "<Figure size 576x288 with 1 Axes>"
      ]
     },
     "metadata": {},
     "output_type": "display_data"
    }
   ],
   "source": [
    "sse = {}\n",
    "for k in range(1, 21):\n",
    "    kmeans = KMeans(n_clusters=k, max_iter=1000).fit(df_cluster)\n",
    "    sse[k] = kmeans.inertia_\n",
    "    \n",
    "plt.figure(figsize=(8,4))\n",
    "plt.plot(list(sse.keys()), list(sse.values()),marker=\"o\",markersize=3)\n",
    "plt.title(\"Elbow Chart\",fontsize=14)\n",
    "plt.xticks(range(1,21))\n",
    "plt.xlabel(\"Number of Cluster(k)\",fontsize=12)\n",
    "plt.ylabel(\"SSE\",fontsize=12)\n",
    "sns.despine()\n",
    "plt.show()"
   ]
  },
  {
   "cell_type": "markdown",
   "id": "81b87e5a",
   "metadata": {},
   "source": [
    "## Re-train kmeans"
   ]
  },
  {
   "cell_type": "code",
   "execution_count": 24,
   "id": "ad96d96c",
   "metadata": {},
   "outputs": [],
   "source": [
    "# According to the above plot, when the number of clusters is 5, it is appropriate \n",
    "# Use n=5 and re-train it \n",
    "\n",
    "kmeans_model = KMeans(n_clusters=5, max_iter=1000,random_state=1).fit(df_cluster)\n",
    "df_cluster[\"clusters\"] = kmeans_model.labels_+1\n",
    "df_listing[\"clusters\"] = kmeans_model.labels_+1"
   ]
  },
  {
   "cell_type": "code",
   "execution_count": 25,
   "id": "9175a6ea",
   "metadata": {},
   "outputs": [
    {
     "data": {
      "text/plain": [
       "1    207\n",
       "2    263\n",
       "3    126\n",
       "4     58\n",
       "5     38\n",
       "Name: clusters, dtype: int64"
      ]
     },
     "execution_count": 25,
     "metadata": {},
     "output_type": "execute_result"
    }
   ],
   "source": [
    "df_listing[\"clusters\"].value_counts().sort_index()"
   ]
  },
  {
   "cell_type": "markdown",
   "id": "6f2b8ba4",
   "metadata": {},
   "source": [
    "# Price prediction model\n",
    "\n",
    "Based on \"latitude\",\"longitude\",\"accommodates\",\"bathrooms\",\"bedrooms\",\"review_scores_rating\",\"host_neighbourhood\" \"descripition\" these features, predict a price"
   ]
  },
  {
   "cell_type": "code",
   "execution_count": 26,
   "id": "19e37c77",
   "metadata": {},
   "outputs": [],
   "source": [
    "from sklearn.compose import ColumnTransformer\n",
    "from sklearn.model_selection import GridSearchCV,train_test_split\n",
    "from sklearn.preprocessing import OneHotEncoder, StandardScaler\n",
    "from sklearn.feature_extraction.text import TfidfVectorizer\n",
    "\n",
    "from sklearn.pipeline import Pipeline\n",
    "from sklearn.model_selection import GridSearchCV\n",
    "from sklearn.model_selection import train_test_split\n",
    "from sklearn.ensemble import RandomForestRegressor"
   ]
  },
  {
   "cell_type": "markdown",
   "id": "9b9c1c22",
   "metadata": {},
   "source": [
    "## Fill in the missing values"
   ]
  },
  {
   "cell_type": "code",
   "execution_count": 27,
   "id": "f930cf60",
   "metadata": {},
   "outputs": [],
   "source": [
    "# make the log transfromation of price, since the original distribution of price is skewed \n",
    "\n",
    "df_listing[\"price_log\"]=np.log(df_listing[\"price\"])\n",
    "\n",
    "# bedrooms: fill in missing the values by mode\n",
    "df_listing[\"bedrooms\"]=df_listing[\"bedrooms\"].fillna(df_listing[\"bedrooms\"].mode()[0])\n",
    "\n",
    "# review_scores_rating: fill in missing the values by mean\n",
    "df_listing[\"review_scores_rating\"]=df_listing[\"review_scores_rating\"].fillna(df_listing[\"review_scores_rating\"].mean())\n",
    "\n",
    "#  description: \"\"\n",
    "df_listing[\"description\"]=df_listing[\"description\"].fillna(\"\")"
   ]
  },
  {
   "cell_type": "code",
   "execution_count": 28,
   "id": "5fc1ec86",
   "metadata": {},
   "outputs": [],
   "source": [
    "X=df_listing[[\"latitude\",\"longitude\",\"accommodates\",\"bathrooms\",\"bedrooms\",\"review_scores_rating\",\"host_neighbourhood\",\"description\"]]\n",
    "y=df_listing[\"price_log\"]\n",
    "\n",
    "# X_train, X_test, y_train, y_test = train_test_split( X, y, test_size=0.2,random_state=1)\n",
    "# print(X_train.shape,y_train.shape)\n",
    "# print(X_test.shape,y_test.shape)"
   ]
  },
  {
   "cell_type": "markdown",
   "id": "1e316b82",
   "metadata": {},
   "source": [
    "## Train model\n",
    "\n",
    "+  \"latitude\",\"longitude\",\"accommodates\",\"bathrooms\",\"bedrooms\",\"review_scores_rating\",\"host_neighbourhood\",\"description\" \n",
    "+  host_neighbourhood is category variable，use onehot encoding before building model\n",
    "+ description is text contents，use TfidfVectorizer to extract text characteristic"
   ]
  },
  {
   "cell_type": "code",
   "execution_count": 29,
   "id": "bd377dff",
   "metadata": {},
   "outputs": [
    {
     "name": "stdout",
     "output_type": "stream",
     "text": [
      "Price Predict Model R2:  0.8620164608803532\n"
     ]
    }
   ],
   "source": [
    "# Train a RandomForest model, based on given features, predict a price \n",
    "\n",
    "num_cols=[\"latitude\",\"longitude\",\"accommodates\",\"bathrooms\",\"bedrooms\",\"review_scores_rating\"]\n",
    "text_cols=\"description\"\n",
    "cat_cols=[\"host_neighbourhood\"]\n",
    "\n",
    "# Use one-hot encoding category characteristic\n",
    "categorical_transformer = Pipeline([ ('onehot', OneHotEncoder(handle_unknown = 'ignore'))])\n",
    "\n",
    "# Use tfidf process description\n",
    "text_transformer = Pipeline([ ('tfidf', TfidfVectorizer(stop_words='english'))])\n",
    "\n",
    "# Continuous characteristic Standardization\n",
    "numerical_transformer = Pipeline( [  ('scaler', StandardScaler()) ])\n",
    "\n",
    "\n",
    "preprocessor = ColumnTransformer( [ \n",
    "                                                            ('onehot_pipe', categorical_transformer, cat_cols),\n",
    "                                                            ('tfidf_pipe', text_transformer, text_cols),\n",
    "                                                            ('scaler_pipe', numerical_transformer, num_cols) ],\n",
    "                                                            remainder = 'passthrough')\n",
    "\n",
    "rf = Pipeline(\n",
    "    [\n",
    "      ('preprocessing', preprocessor),\n",
    "     ('regressor', RandomForestRegressor(random_state=1))   \n",
    "    ])\n",
    "\n",
    "# use GridSearchCV to take hyperparameter optimization, GridSearchCV can automatically adust the parameters and search the optimal param and results\n",
    "parameters = {'regressor__max_depth': range(1,21),'regressor__n_estimators':range(50,201,50)}\n",
    "\n",
    "grid_rf = GridSearchCV(rf, parameters,cv=5, scoring='r2', n_jobs=-1)\n",
    "grid_rf.fit(X, y)\n",
    "\n",
    "# Print out R squared\n",
    "print(\"Price Predict Model R2: \",grid_rf.score(X, y))"
   ]
  },
  {
   "cell_type": "markdown",
   "id": "77df6397",
   "metadata": {},
   "source": [
    "## Actual values vs prediction values--- scatterplot"
   ]
  },
  {
   "cell_type": "code",
   "execution_count": 30,
   "id": "c698262c",
   "metadata": {},
   "outputs": [
    {
     "data": {
      "image/png": "[encoded data removed]",
      "text/plain": [
       "<Figure size 576x360 with 1 Axes>"
      ]
     },
     "metadata": {},
     "output_type": "display_data"
    }
   ],
   "source": [
    "# The scatterplot of actual values and prediction values\n",
    "\n",
    "y_pred=grid_rf.predict(X)\n",
    "\n",
    "# train plot\n",
    "plt.figure(figsize=(8,5))\n",
    "# plt.scatter(y,y_pred,s=2)\n",
    "sns.regplot(y,y_pred)\n",
    "sns.despine()\n",
    "plt.xlabel(\"True Value\",fontsize=12)\n",
    "plt.ylabel(\"Predicted Value\",fontsize=12)\n",
    "plt.title(\"Scatter Plot of True vs Predicted Price(log)\",fontsize=14)\n",
    "plt.show()"
   ]
  },
  {
   "cell_type": "code",
   "execution_count": 31,
   "id": "915b067f",
   "metadata": {},
   "outputs": [],
   "source": [
    "# Price prediction model is not acurrate enough, only for pricing reference\n",
    "# Later on, we continue adding optimization to find a suitable price and combining the previous method\n",
    "\n",
    "price_predict_model=grid_rf.best_estimator_"
   ]
  },
  {
   "cell_type": "markdown",
   "id": "46abd7a7",
   "metadata": {},
   "source": [
    "# Estimation demand function\n",
    "\n",
    "+ For each cluster, estimate an ols demand function\n"
   ]
  },
  {
   "cell_type": "code",
   "execution_count": 32,
   "id": "29c2a0ec",
   "metadata": {
    "scrolled": false
   },
   "outputs": [
    {
     "data": {
      "image/png": "[encoded data removed]",
      "text/plain": [
       "<Figure size 1152x360 with 2 Axes>"
      ]
     },
     "metadata": {},
     "output_type": "display_data"
    },
    {
     "data": {
      "image/png": "[encoded data removed]",
      "text/plain": [
       "<Figure size 1152x360 with 2 Axes>"
      ]
     },
     "metadata": {},
     "output_type": "display_data"
    },
    {
     "data": {
      "image/png": "[encoded data removed]",
      "text/plain": [
       "<Figure size 1152x360 with 2 Axes>"
      ]
     },
     "metadata": {},
     "output_type": "display_data"
    },
    {
     "data": {
      "image/png": "[encoded data removed]",
      "text/plain": [
       "<Figure size 1152x360 with 2 Axes>"
      ]
     },
     "metadata": {},
     "output_type": "display_data"
    },
    {
     "data": {
      "image/png": "[encoded data removed]",
      "text/plain": [
       "<Figure size 1152x360 with 2 Axes>"
      ]
     },
     "metadata": {},
     "output_type": "display_data"
    }
   ],
   "source": [
    "# Check the relationship between price and occupation rate in each cluster\n",
    "# From the following scatterplot, it seems that they have the negative relationship\n",
    "\n",
    "for l in range(5):\n",
    "    fig,axs=plt.subplots(1,2,figsize=(16,5))\n",
    "\n",
    "    sns.regplot(x=\"price_log\",y=\"occupation_rate\",data=df_listing[df_listing[\"clusters\"]==(l+1)],ax=axs[0])\n",
    "    axs[0].set_title(\"Listing Price vs Occupation Rate(Cluster={})\".format(l+1),fontsize=14)\n",
    "    sns.despine()\n",
    "    \n",
    "    sns.regplot(x=\"review_scores_rating\",y=\"occupation_rate\",data=df_listing[df_listing[\"clusters\"]==(l+1)],ax=axs[1])\n",
    "    axs[1].set_title(\"Listing review_scores_rating vs Occupation Rate(Cluster={})\".format(l+1),fontsize=14)\n",
    "    sns.despine()\n",
    "    \n",
    "    plt.show()"
   ]
  },
  {
   "cell_type": "code",
   "execution_count": 33,
   "id": "43158612",
   "metadata": {},
   "outputs": [],
   "source": [
    "# sns.pairplot(df_listing[[\"price_log\",\"review_scores_rating\",\"occupation_rate\",\"clusters\"]],hue=\"clusters\",palette=sns.color_palette(\"Blues_r\", n_colors=5),corner=True)"
   ]
  },
  {
   "cell_type": "code",
   "execution_count": null,
   "id": "a23c7187",
   "metadata": {},
   "outputs": [],
   "source": []
  },
  {
   "cell_type": "markdown",
   "id": "b0e13733",
   "metadata": {},
   "source": [
    "## cluster 1: the estimation of demand function"
   ]
  },
  {
   "cell_type": "code",
   "execution_count": 34,
   "id": "52e4faaa",
   "metadata": {},
   "outputs": [],
   "source": [
    "coefficient_list=[]"
   ]
  },
  {
   "cell_type": "code",
   "execution_count": 35,
   "id": "1baff998",
   "metadata": {
    "scrolled": true
   },
   "outputs": [
    {
     "name": "stdout",
     "output_type": "stream",
     "text": [
      "intercept: 1.5693960982164492\n",
      "coefficients: [-0.18421689  0.03571206 -0.0155993  -0.00668246]\n"
     ]
    }
   ],
   "source": [
    "df_ols=df_listing[[\"price_log\",\"occupation_rate\",\"review_scores_rating\",\"bathrooms\",\"bedrooms\",\"clusters\"]].copy()\n",
    "\n",
    "df_ols1=df_ols[df_ols[\"clusters\"]==0]\n",
    "\n",
    "# ols estimation\n",
    "\n",
    "x=df_listing[['price_log', 'review_scores_rating',\"bathrooms\",\"bedrooms\"]]\n",
    "y=df_listing[\"occupation_rate\"]\n",
    "\n",
    "lr_model=LinearRegression()\n",
    "lr_model.fit(x,y)\n",
    "\n",
    "# use pipeline, the first step is feature of polynomial, the second step is regression \n",
    "# price_log^2 we only look up if there is exponent = 2 in the feature of polynomial \n",
    "cluster1_r2=lr_model.score(x,y)\n",
    "\n",
    "cluster1_intercept=lr_model.intercept_\n",
    "cluster1_coefficients=lr_model.coef_\n",
    "\n",
    "coefficient_list.append({\"cluster\":1,\"intercept\":cluster1_intercept,\"params\":cluster1_coefficients,\"r2\":cluster1_r2})\n",
    "\n",
    "\n",
    "print(\"intercept:\", cluster1_intercept)\n",
    "print(\"coefficients:\", cluster1_coefficients)"
   ]
  },
  {
   "cell_type": "markdown",
   "id": "7a4d5fc5",
   "metadata": {},
   "source": [
    "## cluster 2: the estimation of demand function"
   ]
  },
  {
   "cell_type": "code",
   "execution_count": 36,
   "id": "d7b5f098",
   "metadata": {},
   "outputs": [
    {
     "name": "stdout",
     "output_type": "stream",
     "text": [
      "intercept: 1.6965653491652075\n",
      "coefficients: [-0.2514821   0.07357405 -0.01152593  0.01373149]\n"
     ]
    }
   ],
   "source": [
    "df_ols=df_listing[[\"price_log\",\"occupation_rate\",\"review_scores_rating\",\"bathrooms\",\"bedrooms\",\"clusters\"]].copy()\n",
    "\n",
    "df_ols2=df_ols[df_ols[\"clusters\"]==1]\n",
    "\n",
    "\n",
    "\n",
    "x=df_ols2[['price_log', 'review_scores_rating',\"bathrooms\",\"bedrooms\"]]\n",
    "y=df_ols2[\"occupation_rate\"]\n",
    "\n",
    "lr_model=LinearRegression()\n",
    "lr_model.fit(x,y)\n",
    "\n",
    "\n",
    "cluster2_r2=lr_model.score(x,y)\n",
    "\n",
    "cluster2_intercept=lr_model.intercept_\n",
    "cluster2_coefficients=lr_model.coef_\n",
    "\n",
    "coefficient_list.append({\"cluster\":2,\"intercept\":cluster2_intercept,\"params\":cluster2_coefficients,\"r2\":cluster2_r2})\n",
    "\n",
    "\n",
    "print(\"intercept:\", cluster2_intercept)\n",
    "print(\"coefficients:\", cluster2_coefficients)"
   ]
  },
  {
   "cell_type": "markdown",
   "id": "a814714a",
   "metadata": {},
   "source": [
    "## cluster 3: the estimation of demand function"
   ]
  },
  {
   "cell_type": "code",
   "execution_count": 37,
   "id": "260b13f5",
   "metadata": {},
   "outputs": [
    {
     "name": "stdout",
     "output_type": "stream",
     "text": [
      "intercept: 1.293414167552147\n",
      "coefficients: [-0.20066766  0.09281732  0.05806902  0.0904945 ]\n"
     ]
    }
   ],
   "source": [
    "df_ols=df_listing[[\"price_log\",\"occupation_rate\",\"review_scores_rating\",\"bathrooms\",\"bedrooms\",\"clusters\"]].copy()\n",
    "\n",
    "df_ols3=df_ols[df_ols[\"clusters\"]==2]\n",
    "\n",
    "\n",
    "\n",
    "x=df_ols3[['price_log', 'review_scores_rating',\"bathrooms\",\"bedrooms\"]]\n",
    "y=df_ols3[\"occupation_rate\"]\n",
    "\n",
    "lr_model=LinearRegression()\n",
    "lr_model.fit(x,y)\n",
    "\n",
    "\n",
    "cluster3_r2=lr_model.score(x,y)\n",
    "\n",
    "cluster3_intercept=lr_model.intercept_\n",
    "cluster3_coefficients=lr_model.coef_\n",
    "\n",
    "coefficient_list.append({\"cluster\":3,\"intercept\":cluster3_intercept,\"params\":cluster3_coefficients,\"r2\":cluster3_r2})\n",
    "\n",
    "\n",
    "print(\"intercept:\", cluster3_intercept)\n",
    "print(\"coefficients:\", cluster3_coefficients)"
   ]
  },
  {
   "cell_type": "markdown",
   "id": "3c928240",
   "metadata": {},
   "source": [
    "## cluster 4: the estimation of demand function"
   ]
  },
  {
   "cell_type": "code",
   "execution_count": 38,
   "id": "c4366537",
   "metadata": {},
   "outputs": [
    {
     "name": "stdout",
     "output_type": "stream",
     "text": [
      "intercept: 2.5560350540048473\n",
      "coefficients: [-0.47382567  0.06986999  0.04369598  0.14946555]\n"
     ]
    }
   ],
   "source": [
    "df_ols=df_listing[[\"price_log\",\"occupation_rate\",\"review_scores_rating\",\"bathrooms\",\"bedrooms\",\"clusters\"]].copy()\n",
    "\n",
    "df_ols4=df_ols[df_ols[\"clusters\"]==3]\n",
    "\n",
    "\n",
    "\n",
    "x=df_ols4[['price_log', 'review_scores_rating',\"bathrooms\",\"bedrooms\"]]\n",
    "y=df_ols4[\"occupation_rate\"]\n",
    "\n",
    "lr_model=LinearRegression()\n",
    "lr_model.fit(x,y)\n",
    "\n",
    "\n",
    "cluster4_r2=lr_model.score(x,y)\n",
    "\n",
    "cluster4_intercept=lr_model.intercept_\n",
    "cluster4_coefficients=lr_model.coef_\n",
    "\n",
    "coefficient_list.append({\"cluster\":4,\"intercept\":cluster4_intercept,\"params\":cluster4_coefficients,\"r2\":cluster4_r2})\n",
    "\n",
    "\n",
    "print(\"intercept:\", cluster4_intercept)\n",
    "print(\"coefficients:\", cluster4_coefficients)"
   ]
  },
  {
   "cell_type": "markdown",
   "id": "46149112",
   "metadata": {},
   "source": [
    "## cluster 5: the estimation of demand function"
   ]
  },
  {
   "cell_type": "code",
   "execution_count": 39,
   "id": "9154d229",
   "metadata": {},
   "outputs": [
    {
     "name": "stdout",
     "output_type": "stream",
     "text": [
      "intercept: 1.173371845468759\n",
      "coefficients: [-0.4515056   0.3099463   0.14341583  0.03746273]\n"
     ]
    }
   ],
   "source": [
    "df_ols=df_listing[[\"price_log\",\"occupation_rate\",\"review_scores_rating\",\"bathrooms\",\"bedrooms\",\"clusters\"]].copy()\n",
    "\n",
    "df_ols5=df_ols[df_ols[\"clusters\"]==4]\n",
    "\n",
    "\n",
    "\n",
    "x=df_ols5[['price_log', 'review_scores_rating',\"bathrooms\",\"bedrooms\"]]\n",
    "y=df_ols5[\"occupation_rate\"]\n",
    "\n",
    "lr_model=LinearRegression()\n",
    "lr_model.fit(x,y)\n",
    "\n",
    "\n",
    "cluster5_r2=lr_model.score(x,y)\n",
    "\n",
    "cluster5_intercept=lr_model.intercept_\n",
    "cluster5_coefficients=lr_model.coef_\n",
    "\n",
    "coefficient_list.append({\"cluster\":5,\"intercept\":cluster5_intercept,\"params\":cluster5_coefficients,\"r2\":cluster5_r2})\n",
    "\n",
    "\n",
    "print(\"intercept:\", cluster5_intercept)\n",
    "print(\"coefficients:\", cluster5_coefficients)"
   ]
  },
  {
   "cell_type": "code",
   "execution_count": 40,
   "id": "6150b6cc",
   "metadata": {},
   "outputs": [
    {
     "data": {
      "text/html": [
       "<div>\n",
       "<style scoped>\n",
       "    .dataframe tbody tr th:only-of-type {\n",
       "        vertical-align: middle;\n",
       "    }\n",
       "\n",
       "    .dataframe tbody tr th {\n",
       "        vertical-align: top;\n",
       "    }\n",
       "\n",
       "    .dataframe thead th {\n",
       "        text-align: right;\n",
       "    }\n",
       "</style>\n",
       "<table border=\"1\" class=\"dataframe\">\n",
       "  <thead>\n",
       "    <tr style=\"text-align: right;\">\n",
       "      <th></th>\n",
       "      <th>cluster</th>\n",
       "      <th>intercept</th>\n",
       "      <th>params</th>\n",
       "      <th>r2</th>\n",
       "      <th>opt_price</th>\n",
       "      <th>occupation_ratio</th>\n",
       "    </tr>\n",
       "  </thead>\n",
       "  <tbody>\n",
       "    <tr>\n",
       "      <th>0</th>\n",
       "      <td>1</td>\n",
       "      <td>1.569396</td>\n",
       "      <td>[-0.1842168904701651, 0.03571206015491389, -0.015599299343532245, -0.006682457376723034]</td>\n",
       "      <td>0.069468</td>\n",
       "      <td>0</td>\n",
       "      <td>0</td>\n",
       "    </tr>\n",
       "    <tr>\n",
       "      <th>1</th>\n",
       "      <td>2</td>\n",
       "      <td>1.696565</td>\n",
       "      <td>[-0.25148210117038833, 0.07357404909447433, -0.011525931202655146, 0.013731493320675352]</td>\n",
       "      <td>0.119721</td>\n",
       "      <td>0</td>\n",
       "      <td>0</td>\n",
       "    </tr>\n",
       "    <tr>\n",
       "      <th>2</th>\n",
       "      <td>3</td>\n",
       "      <td>1.293414</td>\n",
       "      <td>[-0.20066766100935934, 0.0928173168188642, 0.058069016451785624, 0.09049449732074166]</td>\n",
       "      <td>0.132167</td>\n",
       "      <td>0</td>\n",
       "      <td>0</td>\n",
       "    </tr>\n",
       "    <tr>\n",
       "      <th>3</th>\n",
       "      <td>4</td>\n",
       "      <td>2.556035</td>\n",
       "      <td>[-0.4738256668214269, 0.06986999076708902, 0.04369598458630955, 0.14946554829086195]</td>\n",
       "      <td>0.238783</td>\n",
       "      <td>0</td>\n",
       "      <td>0</td>\n",
       "    </tr>\n",
       "    <tr>\n",
       "      <th>4</th>\n",
       "      <td>5</td>\n",
       "      <td>1.173372</td>\n",
       "      <td>[-0.4515056042832678, 0.3099462953303792, 0.143415830556349, 0.03746273331657696]</td>\n",
       "      <td>0.280845</td>\n",
       "      <td>0</td>\n",
       "      <td>0</td>\n",
       "    </tr>\n",
       "  </tbody>\n",
       "</table>\n",
       "</div>"
      ],
      "text/plain": [
       "   cluster  intercept  \\\n",
       "0        1   1.569396   \n",
       "1        2   1.696565   \n",
       "2        3   1.293414   \n",
       "3        4   2.556035   \n",
       "4        5   1.173372   \n",
       "\n",
       "                                                                                     params  \\\n",
       "0  [-0.1842168904701651, 0.03571206015491389, -0.015599299343532245, -0.006682457376723034]   \n",
       "1  [-0.25148210117038833, 0.07357404909447433, -0.011525931202655146, 0.013731493320675352]   \n",
       "2     [-0.20066766100935934, 0.0928173168188642, 0.058069016451785624, 0.09049449732074166]   \n",
       "3      [-0.4738256668214269, 0.06986999076708902, 0.04369598458630955, 0.14946554829086195]   \n",
       "4         [-0.4515056042832678, 0.3099462953303792, 0.143415830556349, 0.03746273331657696]   \n",
       "\n",
       "         r2  opt_price  occupation_ratio  \n",
       "0  0.069468          0                 0  \n",
       "1  0.119721          0                 0  \n",
       "2  0.132167          0                 0  \n",
       "3  0.238783          0                 0  \n",
       "4  0.280845          0                 0  "
      ]
     },
     "execution_count": 40,
     "metadata": {},
     "output_type": "execute_result"
    }
   ],
   "source": [
    "# 加入 review_scores_rating 之后，price 和 review_scores_rating 依然不是影响 occupation rate 的主要因素\n",
    "\n",
    "df_cluster_demand_func=pd.DataFrame(coefficient_list)\n",
    "\n",
    "# 新增两列 opt_price  occupation_ratio 一会儿咱们往里面更新对应的数据\n",
    "df_cluster_demand_func[\"opt_price\"]=0\n",
    "df_cluster_demand_func[\"occupation_ratio\"]=0\n",
    "df_cluster_demand_func"
   ]
  },
  {
   "cell_type": "code",
   "execution_count": null,
   "id": "5115e498",
   "metadata": {},
   "outputs": [],
   "source": []
  },
  {
   "cell_type": "markdown",
   "id": "81d6e025",
   "metadata": {},
   "source": [
    "# optimize price\n",
    "\n",
    "+ demand function d = intercept + a*price_log + b* review_scores_rating + c*bathrooms + d*bedrooms\n",
    "+ When we have demand function，use scipy.optimize to find opt_price and occupation_ratio\n",
    "+ attention: the opt_price is log(price), later convert\n"
   ]
  },
  {
   "cell_type": "code",
   "execution_count": 41,
   "id": "bb4db892",
   "metadata": {},
   "outputs": [],
   "source": [
    "# https://docs.scipy.org/doc/scipy/reference/generated/scipy.optimize.minimize.html#scipy.optimize.minimize\n",
    "from scipy.optimize import minimize\n",
    "import numpy as np"
   ]
  },
  {
   "cell_type": "markdown",
   "id": "4bad752e",
   "metadata": {},
   "source": [
    "## cluster 1: search for opt_price and occupation_ratio "
   ]
  },
  {
   "cell_type": "code",
   "execution_count": 42,
   "id": "175fea8d",
   "metadata": {},
   "outputs": [
    {
     "name": "stdout",
     "output_type": "stream",
     "text": [
      "Optimization problem (res):\tOptimization terminated successfully\n",
      "Occupation Ratio = 87.45%\n",
      "Optimized Price = 116\n"
     ]
    }
   ],
   "source": [
    "\n",
    "# Scipy.optimize.minimize\n",
    "# define the obejctive function\n",
    "\n",
    "# d= 1.569 -0.184 * price_log +0.36 * review_scores_rating - 0.016 * bathrooms - 0.007*bedrooms\n",
    "def obj_function(x):  \n",
    "    # optimize.minimize only for solving the minimum question, we need to max (revenue = price*demand), so we need to multiply -1 to transfer solving max into min\n",
    "    \n",
    "    fx = -1*(1.569*x[0] - 0.184*x[0]**2 + 0.036*x[1]*x[0] - 0.016*x[2]*x[0] - 0.007*x[3]*x[0])\n",
    "    return fx\n",
    "\n",
    "def constraint1(x):  # Constraints f(x)： demand >=0\n",
    "    return 1.569 - 0.184*x[0] + 0.036*x[1] - 0.016*x[2] - 0.007*x[3]\n",
    "\n",
    "def constraint2(x):  # Constraintsf(x): demand <=1\n",
    "    return -1*(1.569 - 0.184*x[0] + 0.036*x[1] - 0.016*x[2] - 0.007*x[3])+1\n",
    "\n",
    "def constraint3(x):  # Constraints f(x): price*demand>=0\n",
    "    return (1.173 - 0.452*x[0] + 0.31*x[1] + 0.143*x[2] + 0.037*x[3])*x[0]\n",
    "\n",
    "# define the initial value of searching\n",
    "X_init = np.array([1.0,1.0,1.0,1.0])  \n",
    "\n",
    "# bond1 the constraint for price (>0)\n",
    "bond1 = (0, 6) \n",
    "\n",
    "# the range of review_scores_rating \n",
    "bond2 = (1, 5) \n",
    "\n",
    "# the range of bathrooms \n",
    "bond3 = (0, 5) \n",
    "\n",
    "# the range of bedrooms \n",
    "bond4 = (0, 10) \n",
    "bnds = (bond1,bond2,bond3,bond4)\n",
    "\n",
    "con1 = {'type': 'ineq', 'fun': constraint1}\n",
    "con2 = {'type': 'ineq', 'fun': constraint2}\n",
    "con3 = {'type': 'ineq', 'fun': constraint3}\n",
    "\n",
    "cons = ([con1,con2,con3])\n",
    "\n",
    "res = minimize(obj_function, X_init, method='SLSQP', bounds=bnds, constraints=cons)\n",
    "\n",
    "print(\"Optimization problem (res):\\t{}\".format(res.message))  # print out if the optimization is success or not?\n",
    "\n",
    "print(\"Occupation Ratio = {:0.2%}\".format(constraint1(res.x)))\n",
    "print(\"Optimized Price = {:0.0f}\".format(np.exp(res.x[0]))) \n",
    "\n",
    "# Save in the previous dataframe and use it later easily\n",
    "df_cluster_demand_func.iloc[0,-2]= np.exp(res.x[0]).round(0)\n",
    "df_cluster_demand_func.iloc[0,-1]= constraint1(res.x)"
   ]
  },
  {
   "cell_type": "markdown",
   "id": "4db558d4",
   "metadata": {},
   "source": [
    "## cluster 2: search for opt_price and occupation_ratio "
   ]
  },
  {
   "cell_type": "code",
   "execution_count": 43,
   "id": "cf1a6d3e",
   "metadata": {},
   "outputs": [
    {
     "name": "stdout",
     "output_type": "stream",
     "text": [
      "Optimization problem (res):\tOptimization terminated successfully\n",
      "Occupation Ratio = 100.00%\n",
      "Optimized Price = 123\n"
     ]
    }
   ],
   "source": [
    "\n",
    "# d= 1.697 -0.251 * price_log +0.074 * review_scores_rating - 0.012 * bathrooms + 0.014*bedrooms\n",
    "\n",
    "def obj_function(x):  \n",
    "    #  optimize.minimize only for solving the minimum question, we need to max (revenue = price*demand), so we need to multiply -1 to transfer solving max into min\n",
    "    \n",
    "    fx = -1*(1.697*x[0] - 0.251*x[0]**2 + 0.074*x[1]*x[0] - 0.012*x[2]*x[0] + 0.014*x[3]*x[0])\n",
    "    return fx\n",
    "\n",
    "def constraint1(x):  # Constraints f(x)： demand >=0\n",
    "    return 1.697 - 0.251*x[0] + 0.074*x[1] - 0.012*x[2] + 0.014*x[3]\n",
    "\n",
    "def constraint2(x):  # Constraintsf(x): demand <=1\n",
    "    return -1*(1.697 - 0.251*x[0] + 0.074*x[1] - 0.012*x[2] + 0.014*x[3])+1\n",
    "\n",
    "def constraint3(x):  # Constraints f(x): price*demand>=0\n",
    "    return (1.173 - 0.452*x[0] + 0.31*x[1] + 0.143*x[2] + 0.037*x[3])*x[0]\n",
    "\n",
    "# define the initial value of searching\n",
    "X_init = np.array([1.0,1.0,1.0,1.0])  \n",
    "\n",
    "# bond1 the constraint for price (>0)\n",
    "bond1 = (0, 6) \n",
    "\n",
    "# the range of review_scores_rating \n",
    "bond2 = (1, 5) \n",
    "\n",
    "# the range of bathrooms \n",
    "bond3 = (0, 5) \n",
    "\n",
    "# the range of bedrooms \n",
    "bond4 = (0, 10) \n",
    "bnds = (bond1,bond2,bond3,bond4)\n",
    "\n",
    "con1 = {'type': 'ineq', 'fun': constraint1}\n",
    "con2 = {'type': 'ineq', 'fun': constraint2}\n",
    "con3 = {'type': 'ineq', 'fun': constraint3}\n",
    "\n",
    "cons = ([con1,con2,con3])\n",
    "\n",
    "res = minimize(obj_function, X_init, method='SLSQP', bounds=bnds, constraints=cons)\n",
    "\n",
    "print(\"Optimization problem (res):\\t{}\".format(res.message))  # print out if the optimization is success or not?\n",
    "\n",
    "print(\"Occupation Ratio = {:0.2%}\".format(constraint1(res.x)))\n",
    "print(\"Optimized Price = {:0.0f}\".format(np.exp(res.x[0])))\n",
    "\n",
    "# Save in the previous dataframe and use it later easily\n",
    "df_cluster_demand_func.iloc[1,-2]= np.exp(res.x[0]).round(0)\n",
    "df_cluster_demand_func.iloc[1,-1]= constraint1(res.x)"
   ]
  },
  {
   "cell_type": "markdown",
   "id": "5ec862a4",
   "metadata": {},
   "source": [
    "## cluster 3: search for opt_price and occupation_ratio "
   ]
  },
  {
   "cell_type": "code",
   "execution_count": 44,
   "id": "171b0992",
   "metadata": {},
   "outputs": [
    {
     "name": "stdout",
     "output_type": "stream",
     "text": [
      "Optimization problem (res):\tOptimization terminated successfully\n",
      "Occupation Ratio = 100.00%\n",
      "Optimized Price = 403\n"
     ]
    }
   ],
   "source": [
    "\n",
    "# d= 1.293 - 0.201 * price_log + 0.093 * review_scores_rating + 0.058 * bathrooms + 0.09*bedrooms\n",
    "\n",
    "def obj_function(x):  \n",
    "    #  optimize.minimize only for solving the minimum question, we need to max (revenue = price*demand), so we need to multiply -1 to transfer solving max into min\n",
    "    \n",
    "    fx = -1*(1.293*x[0] - 0.201*x[0]**2 + 0.093*x[1]*x[0] + 0.058*x[2]*x[0] + 0.09*x[3]*x[0])\n",
    "    return fx\n",
    "\n",
    "def constraint1(x):  # Constraints f(x)： demand >=0\n",
    "    return 1.293 - 0.201*x[0] + 0.093*x[1] + 0.058*x[2] + 0.09*x[3]\n",
    "\n",
    "def constraint2(x):  # Constraintsf(x): demand <=1\n",
    "    return -1*(1.293 - 0.201*x[0] + 0.093*x[1] + 0.058*x[2] + 0.09*x[3])+1\n",
    "\n",
    "def constraint3(x):  # Constraints f(x): price*demand>=0\n",
    "    return (1.173 - 0.452*x[0] + 0.31*x[1] + 0.143*x[2] + 0.037*x[3])*x[0]\n",
    "\n",
    "# define the initial value of searching\n",
    "X_init = np.array([1.0,1.0,1.0,1.0])  \n",
    "\n",
    "# bond1 the constraint for price (>0)\n",
    "bond1 = (0, 6)  \n",
    "\n",
    "# the range of review_scores_rating \n",
    "bond2 = (1, 5) \n",
    "\n",
    "# the range of bathrooms \n",
    "bond3 = (0, 5) \n",
    "\n",
    "# the range of bedrooms \n",
    "bond4 = (0, 10) \n",
    "bnds = (bond1,bond2,bond3,bond4)\n",
    "\n",
    "con1 = {'type': 'ineq', 'fun': constraint1}\n",
    "con2 = {'type': 'ineq', 'fun': constraint2}\n",
    "con3 = {'type': 'ineq', 'fun': constraint3}\n",
    "\n",
    "cons = ([con1,con2,con3])\n",
    "\n",
    "res = minimize(obj_function, X_init, method='SLSQP', bounds=bnds, constraints=cons)\n",
    "\n",
    "print(\"Optimization problem (res):\\t{}\".format(res.message))  # print out if the optimization is success or not?\n",
    "\n",
    "print(\"Occupation Ratio = {:0.2%}\".format(constraint1(res.x)))\n",
    "print(\"Optimized Price = {:0.0f}\".format(np.exp(res.x[0])))\n",
    "\n",
    "# Save in the previous dataframe and use it later easily\n",
    "df_cluster_demand_func.iloc[2,-2]= np.exp(res.x[0]).round(0)\n",
    "df_cluster_demand_func.iloc[2,-1]= constraint1(res.x)"
   ]
  },
  {
   "cell_type": "markdown",
   "id": "2e63838a",
   "metadata": {},
   "source": [
    "## cluster 4: search for opt_price and occupation_ratio "
   ]
  },
  {
   "cell_type": "code",
   "execution_count": 45,
   "id": "49d45a67",
   "metadata": {},
   "outputs": [
    {
     "name": "stdout",
     "output_type": "stream",
     "text": [
      "Optimization problem (res):\tOptimization terminated successfully\n",
      "Occupation Ratio = 100.00%\n",
      "Optimized Price = 403\n"
     ]
    }
   ],
   "source": [
    "\n",
    "# d= 2.556 - 0.474 * price_log + 0.07 * review_scores_rating + 0.044 * bathrooms + 0.149*bedrooms\n",
    "\n",
    "def obj_function(x):  \n",
    "    #  optimize.minimize only for solving the minimum question, we need to max (revenue = price*demand), so we need to multiply -1 to transfer solving max into min\n",
    "    \n",
    "    fx = -1*(2.556*x[0] - 0.474*x[0]**2 + 0.07*x[1]*x[0] + 0.044*x[2]*x[0] + 0.149*x[3]*x[0])\n",
    "    return fx\n",
    "\n",
    "def constraint1(x):  # Constraints f(x)： demand >=0\n",
    "    return 2.556 - 0.474*x[0] + 0.07*x[1] + 0.044*x[2] + 0.149*x[3]\n",
    "\n",
    "def constraint2(x):  # Constraintsf(x): demand <=1\n",
    "    return -1*(2.556 - 0.474*x[0] + 0.07*x[1] + 0.044*x[2] + 0.149*x[3])+1\n",
    "\n",
    "def constraint3(x):  # Constraints f(x): price*demand>=0\n",
    "    return (1.173 - 0.452*x[0] + 0.31*x[1] + 0.143*x[2] + 0.037*x[3])*x[0]\n",
    "\n",
    "# define the initial value of searching\n",
    "X_init = np.array([1.0,1.0,1.0,1.0])  \n",
    "\n",
    "# bond1 the constraint for price (>0)\n",
    "bond1 = (0, 6) \n",
    "\n",
    "# the range of review_scores_rating \n",
    "bond2 = (1, 5) \n",
    "\n",
    "# the range of bathrooms\n",
    "bond3 = (0, 5) \n",
    "\n",
    "# the range of bedrooms\n",
    "bond4 = (0, 10) \n",
    "bnds = (bond1,bond2,bond3,bond4)\n",
    "\n",
    "con1 = {'type': 'ineq', 'fun': constraint1}\n",
    "con2 = {'type': 'ineq', 'fun': constraint2}\n",
    "con3 = {'type': 'ineq', 'fun': constraint3}\n",
    "\n",
    "cons = ([con1,con2,con3])\n",
    "\n",
    "res = minimize(obj_function, X_init, method='SLSQP', bounds=bnds, constraints=cons)\n",
    "\n",
    "print(\"Optimization problem (res):\\t{}\".format(res.message))  # print out if the optimization is success or not?\n",
    "\n",
    "\n",
    "print(\"Occupation Ratio = {:0.2%}\".format(constraint1(res.x)))\n",
    "print(\"Optimized Price = {:0.0f}\".format(np.exp(res.x[0])))\n",
    "\n",
    "# Save in the previous dataframe and use it later easily\n",
    "df_cluster_demand_func.iloc[3,-2]= np.exp(res.x[0]).round(0)\n",
    "df_cluster_demand_func.iloc[3,-1]= constraint1(res.x)"
   ]
  },
  {
   "cell_type": "markdown",
   "id": "5f5e121d",
   "metadata": {},
   "source": [
    "## cluster 5: search for opt_price and occupation_ratio "
   ]
  },
  {
   "cell_type": "code",
   "execution_count": 46,
   "id": "9ff264f5",
   "metadata": {},
   "outputs": [
    {
     "name": "stdout",
     "output_type": "stream",
     "text": [
      "Optimization problem (res):\tOptimization terminated successfully\n",
      "Occupation Ratio = 100.00%\n",
      "Optimized Price = 403\n"
     ]
    }
   ],
   "source": [
    "\n",
    "# d= 1.173 - 0.452 * price_log + 0.31 * review_scores_rating + 0.143 * bathrooms + 0.037*bedrooms\n",
    "\n",
    "def obj_function(x):  \n",
    "     #  optimize.minimize only for solving the minimum question, we need to max (revenue = price*demand), so we need to multiply -1 to transfer solving max into min\n",
    "    \n",
    "    fx = -1*(1.173*x[0] - 0.452*x[0]**2 + 0.31*x[1]*x[0] + 0.143*x[2]*x[0] + 0.037*x[3]*x[0])\n",
    "    return fx\n",
    "\n",
    "def constraint1(x):  # Constraints f(x)： demand >=0\n",
    "    return 1.173 - 0.452*x[0] + 0.31*x[1] + 0.143*x[2] + 0.037*x[3]\n",
    "\n",
    "def constraint2(x):  # Constraintsf(x): demand <=1\n",
    "    return -1*(1.173 - 0.452*x[0] + 0.31*x[1] + 0.143*x[2] + 0.037*x[3])+1\n",
    "\n",
    "def constraint3(x):  # Constraints f(x): price*demand>=0\n",
    "    return (1.173 - 0.452*x[0] + 0.31*x[1] + 0.143*x[2] + 0.037*x[3])*x[0]\n",
    "\n",
    "# define the initial value of searching\n",
    "X_init = np.array([1.0,1.0,1.0,1.0])  \n",
    "\n",
    "# bond1 the constraint for price (>0)\n",
    "bond1 = (0, 6) \n",
    "\n",
    "# the range of review_scores_rating\n",
    "bond2 = (1, 5) \n",
    "\n",
    "# the range of bathrooms\n",
    "bond3 = (0, 5) \n",
    "\n",
    "# the range of bedrooms\n",
    "bond4 = (0, 10) \n",
    "bnds = (bond1,bond2,bond3,bond4)\n",
    "\n",
    "con1 = {'type': 'ineq', 'fun': constraint1}\n",
    "con2 = {'type': 'ineq', 'fun': constraint2}\n",
    "con3 = {'type': 'ineq', 'fun': constraint3}\n",
    "\n",
    "cons = ([con1,con2,con3])\n",
    "\n",
    "res = minimize(obj_function, X_init, method='SLSQP', bounds=bnds, constraints=cons)\n",
    "\n",
    "print(\"Optimization problem (res):\\t{}\".format(res.message))  # print out if the optimization is success or not?\n",
    "\n",
    "print(\"Occupation Ratio = {:0.2%}\".format(constraint1(res.x)))\n",
    "print(\"Optimized Price = {:0.0f}\".format(np.exp(res.x[0])))\n",
    "\n",
    "# Save in the previous dataframe and use it later easily\n",
    "df_cluster_demand_func.iloc[4,-2]= np.exp(res.x[0]).round(0)\n",
    "df_cluster_demand_func.iloc[4,-1]= constraint1(res.x)"
   ]
  },
  {
   "cell_type": "markdown",
   "id": "b25ac5c7",
   "metadata": {},
   "source": [
    "# Application\n",
    "\n",
    "+ When we are going to create a new listing, what we need to do: \n",
    "    1. Use cluster model to identify which listing belongs to which cluster\n",
    "    2. Find the cluster's optimal price\n",
    "    3. Use price prediction model to predict price\n",
    "    4. Based on the two above ways, trade-off the best price. It is assumed that the weights of the two methods are 50% respectivel"
   ]
  },
  {
   "cell_type": "code",
   "execution_count": 47,
   "id": "e24a285e",
   "metadata": {},
   "outputs": [
    {
     "data": {
      "text/html": [
       "<div>\n",
       "<style scoped>\n",
       "    .dataframe tbody tr th:only-of-type {\n",
       "        vertical-align: middle;\n",
       "    }\n",
       "\n",
       "    .dataframe tbody tr th {\n",
       "        vertical-align: top;\n",
       "    }\n",
       "\n",
       "    .dataframe thead th {\n",
       "        text-align: right;\n",
       "    }\n",
       "</style>\n",
       "<table border=\"1\" class=\"dataframe\">\n",
       "  <thead>\n",
       "    <tr style=\"text-align: right;\">\n",
       "      <th></th>\n",
       "      <th>cluster</th>\n",
       "      <th>intercept</th>\n",
       "      <th>params</th>\n",
       "      <th>r2</th>\n",
       "      <th>opt_price</th>\n",
       "      <th>occupation_ratio</th>\n",
       "    </tr>\n",
       "  </thead>\n",
       "  <tbody>\n",
       "    <tr>\n",
       "      <th>0</th>\n",
       "      <td>1</td>\n",
       "      <td>1.569396</td>\n",
       "      <td>[-0.1842168904701651, 0.03571206015491389, -0.015599299343532245, -0.006682457376723034]</td>\n",
       "      <td>0.069468</td>\n",
       "      <td>116</td>\n",
       "      <td>0.8745</td>\n",
       "    </tr>\n",
       "    <tr>\n",
       "      <th>1</th>\n",
       "      <td>2</td>\n",
       "      <td>1.696565</td>\n",
       "      <td>[-0.25148210117038833, 0.07357404909447433, -0.011525931202655146, 0.013731493320675352]</td>\n",
       "      <td>0.119721</td>\n",
       "      <td>123</td>\n",
       "      <td>1.0000</td>\n",
       "    </tr>\n",
       "    <tr>\n",
       "      <th>2</th>\n",
       "      <td>3</td>\n",
       "      <td>1.293414</td>\n",
       "      <td>[-0.20066766100935934, 0.0928173168188642, 0.058069016451785624, 0.09049449732074166]</td>\n",
       "      <td>0.132167</td>\n",
       "      <td>403</td>\n",
       "      <td>1.0000</td>\n",
       "    </tr>\n",
       "    <tr>\n",
       "      <th>3</th>\n",
       "      <td>4</td>\n",
       "      <td>2.556035</td>\n",
       "      <td>[-0.4738256668214269, 0.06986999076708902, 0.04369598458630955, 0.14946554829086195]</td>\n",
       "      <td>0.238783</td>\n",
       "      <td>403</td>\n",
       "      <td>1.0000</td>\n",
       "    </tr>\n",
       "    <tr>\n",
       "      <th>4</th>\n",
       "      <td>5</td>\n",
       "      <td>1.173372</td>\n",
       "      <td>[-0.4515056042832678, 0.3099462953303792, 0.143415830556349, 0.03746273331657696]</td>\n",
       "      <td>0.280845</td>\n",
       "      <td>403</td>\n",
       "      <td>1.0000</td>\n",
       "    </tr>\n",
       "  </tbody>\n",
       "</table>\n",
       "</div>"
      ],
      "text/plain": [
       "   cluster  intercept  \\\n",
       "0        1   1.569396   \n",
       "1        2   1.696565   \n",
       "2        3   1.293414   \n",
       "3        4   2.556035   \n",
       "4        5   1.173372   \n",
       "\n",
       "                                                                                     params  \\\n",
       "0  [-0.1842168904701651, 0.03571206015491389, -0.015599299343532245, -0.006682457376723034]   \n",
       "1  [-0.25148210117038833, 0.07357404909447433, -0.011525931202655146, 0.013731493320675352]   \n",
       "2     [-0.20066766100935934, 0.0928173168188642, 0.058069016451785624, 0.09049449732074166]   \n",
       "3      [-0.4738256668214269, 0.06986999076708902, 0.04369598458630955, 0.14946554829086195]   \n",
       "4         [-0.4515056042832678, 0.3099462953303792, 0.143415830556349, 0.03746273331657696]   \n",
       "\n",
       "         r2  opt_price  occupation_ratio  \n",
       "0  0.069468        116            0.8745  \n",
       "1  0.119721        123            1.0000  \n",
       "2  0.132167        403            1.0000  \n",
       "3  0.238783        403            1.0000  \n",
       "4  0.280845        403            1.0000  "
      ]
     },
     "execution_count": 47,
     "metadata": {},
     "output_type": "execute_result"
    }
   ],
   "source": [
    "# According to previous dataframe to check the opt price of each cluster.\n",
    "\n",
    "df_cluster_demand_func"
   ]
  },
  {
   "cell_type": "code",
   "execution_count": 57,
   "id": "9310e3bb",
   "metadata": {},
   "outputs": [
    {
     "data": {
      "text/html": [
       "<div>\n",
       "<style scoped>\n",
       "    .dataframe tbody tr th:only-of-type {\n",
       "        vertical-align: middle;\n",
       "    }\n",
       "\n",
       "    .dataframe tbody tr th {\n",
       "        vertical-align: top;\n",
       "    }\n",
       "\n",
       "    .dataframe thead th {\n",
       "        text-align: right;\n",
       "    }\n",
       "</style>\n",
       "<table border=\"1\" class=\"dataframe\">\n",
       "  <thead>\n",
       "    <tr style=\"text-align: right;\">\n",
       "      <th></th>\n",
       "      <th>id</th>\n",
       "      <th>host_since</th>\n",
       "      <th>host_neighbourhood</th>\n",
       "      <th>description</th>\n",
       "      <th>latitude</th>\n",
       "      <th>longitude</th>\n",
       "      <th>accommodates</th>\n",
       "      <th>bathrooms</th>\n",
       "      <th>bedrooms</th>\n",
       "      <th>price</th>\n",
       "      <th>review_scores_rating</th>\n",
       "      <th>occupation_rate</th>\n",
       "      <th>clusters</th>\n",
       "      <th>price_log</th>\n",
       "    </tr>\n",
       "  </thead>\n",
       "  <tbody>\n",
       "    <tr>\n",
       "      <th>608</th>\n",
       "      <td>50231277</td>\n",
       "      <td>2019-10-12</td>\n",
       "      <td>NaN</td>\n",
       "      <td>•••WELCOME•••&lt;br /&gt;&lt;br /&gt;Welcome to our one of a kind VIP Starlight Lounge/MUSIC STUDIO in the heart of Brooklyn, NY. Step into this State of the Art Space and fulfill all of your event oriented d...</td>\n",
       "      <td>40.68385</td>\n",
       "      <td>-73.95071</td>\n",
       "      <td>16</td>\n",
       "      <td>0.5</td>\n",
       "      <td>1.0</td>\n",
       "      <td>149.0</td>\n",
       "      <td>5.0</td>\n",
       "      <td>0.066667</td>\n",
       "      <td>5</td>\n",
       "      <td>5.003946</td>\n",
       "    </tr>\n",
       "  </tbody>\n",
       "</table>\n",
       "</div>"
      ],
      "text/plain": [
       "           id host_since host_neighbourhood  \\\n",
       "608  50231277 2019-10-12                NaN   \n",
       "\n",
       "                                                                                                                                                                                                 description  \\\n",
       "608  •••WELCOME•••<br /><br />Welcome to our one of a kind VIP Starlight Lounge/MUSIC STUDIO in the heart of Brooklyn, NY. Step into this State of the Art Space and fulfill all of your event oriented d...   \n",
       "\n",
       "     latitude  longitude  accommodates  bathrooms  bedrooms  price  \\\n",
       "608  40.68385  -73.95071            16        0.5       1.0  149.0   \n",
       "\n",
       "     review_scores_rating  occupation_rate  clusters  price_log  \n",
       "608                   5.0         0.066667         5   5.003946  "
      ]
     },
     "execution_count": 57,
     "metadata": {},
     "output_type": "execute_result"
    }
   ],
   "source": [
    "# sample, randomly picked a data from existing data \n",
    "\n",
    "sample_listiing=df_listing.sample(1,random_state=0)\n",
    "sample_listiing"
   ]
  },
  {
   "cell_type": "code",
   "execution_count": 58,
   "id": "19458ba9",
   "metadata": {},
   "outputs": [
    {
     "data": {
      "text/plain": [
       "array([4])"
      ]
     },
     "execution_count": 58,
     "metadata": {},
     "output_type": "execute_result"
    }
   ],
   "source": [
    "# Identify the cluster： need latitude  longitude  accommodates these three features\n",
    "\n",
    "# Use kmeans_scaler to standardization processing \n",
    "scaled_sample=kmeans_scaler.transform(sample_listiing[[\"latitude\",\"longitude\",\"accommodates\"]])\n",
    "\n",
    "# Use kmeans_model identify which cluster belong to \n",
    "kmeans_model.predict(scaled_sample)"
   ]
  },
  {
   "cell_type": "code",
   "execution_count": 59,
   "id": "f74a56b4",
   "metadata": {},
   "outputs": [],
   "source": [
    "# the cluster is 4\n",
    "# find the opt price and occupation ratio of cluster 4\n",
    "\n",
    "opt_price=403\n",
    "occupation_ratio=1"
   ]
  },
  {
   "cell_type": "code",
   "execution_count": 60,
   "id": "c50d84d2",
   "metadata": {},
   "outputs": [
    {
     "data": {
      "text/html": [
       "<div>\n",
       "<style scoped>\n",
       "    .dataframe tbody tr th:only-of-type {\n",
       "        vertical-align: middle;\n",
       "    }\n",
       "\n",
       "    .dataframe tbody tr th {\n",
       "        vertical-align: top;\n",
       "    }\n",
       "\n",
       "    .dataframe thead th {\n",
       "        text-align: right;\n",
       "    }\n",
       "</style>\n",
       "<table border=\"1\" class=\"dataframe\">\n",
       "  <thead>\n",
       "    <tr style=\"text-align: right;\">\n",
       "      <th></th>\n",
       "      <th>id</th>\n",
       "      <th>host_since</th>\n",
       "      <th>host_neighbourhood</th>\n",
       "      <th>description</th>\n",
       "      <th>latitude</th>\n",
       "      <th>longitude</th>\n",
       "      <th>accommodates</th>\n",
       "      <th>bathrooms</th>\n",
       "      <th>bedrooms</th>\n",
       "      <th>price</th>\n",
       "      <th>review_scores_rating</th>\n",
       "      <th>occupation_rate</th>\n",
       "      <th>clusters</th>\n",
       "      <th>price_log</th>\n",
       "    </tr>\n",
       "  </thead>\n",
       "  <tbody>\n",
       "    <tr>\n",
       "      <th>608</th>\n",
       "      <td>50231277</td>\n",
       "      <td>2019-10-12</td>\n",
       "      <td>NaN</td>\n",
       "      <td>•••WELCOME•••&lt;br /&gt;&lt;br /&gt;Welcome to our one of a kind VIP Starlight Lounge/MUSIC STUDIO in the heart of Brooklyn, NY. Step into this State of the Art Space and fulfill all of your event oriented d...</td>\n",
       "      <td>40.68385</td>\n",
       "      <td>-73.95071</td>\n",
       "      <td>16</td>\n",
       "      <td>0.5</td>\n",
       "      <td>1.0</td>\n",
       "      <td>149.0</td>\n",
       "      <td>5.0</td>\n",
       "      <td>0.066667</td>\n",
       "      <td>5</td>\n",
       "      <td>5.003946</td>\n",
       "    </tr>\n",
       "  </tbody>\n",
       "</table>\n",
       "</div>"
      ],
      "text/plain": [
       "           id host_since host_neighbourhood  \\\n",
       "608  50231277 2019-10-12                NaN   \n",
       "\n",
       "                                                                                                                                                                                                 description  \\\n",
       "608  •••WELCOME•••<br /><br />Welcome to our one of a kind VIP Starlight Lounge/MUSIC STUDIO in the heart of Brooklyn, NY. Step into this State of the Art Space and fulfill all of your event oriented d...   \n",
       "\n",
       "     latitude  longitude  accommodates  bathrooms  bedrooms  price  \\\n",
       "608  40.68385  -73.95071            16        0.5       1.0  149.0   \n",
       "\n",
       "     review_scores_rating  occupation_rate  clusters  price_log  \n",
       "608                   5.0         0.066667         5   5.003946  "
      ]
     },
     "execution_count": 60,
     "metadata": {},
     "output_type": "execute_result"
    }
   ],
   "source": [
    "sample_listiing"
   ]
  },
  {
   "cell_type": "code",
   "execution_count": 61,
   "id": "f406f662",
   "metadata": {},
   "outputs": [
    {
     "data": {
      "text/plain": [
       "5.097382013685007"
      ]
     },
     "execution_count": 61,
     "metadata": {},
     "output_type": "execute_result"
    }
   ],
   "source": [
    "# Use price prediction model to predict price\n",
    "# latitude, longitude, accommodates, bathrooms, bedrooms, review_scores_rating,host_neighborhood, descripition\n",
    "\n",
    "predicted_price=price_predict_model.predict(sample_listiing[[\"latitude\",\"longitude\",\"accommodates\",\"bathrooms\",\"bedrooms\",\"review_scores_rating\",\"host_neighbourhood\",\"description\"]])[0]\n",
    "predicted_price"
   ]
  },
  {
   "cell_type": "code",
   "execution_count": 62,
   "id": "ea21c7a6",
   "metadata": {},
   "outputs": [
    {
     "data": {
      "text/plain": [
       "214"
      ]
     },
     "execution_count": 62,
     "metadata": {},
     "output_type": "execute_result"
    }
   ],
   "source": [
    "# Based on two price, assume two same weights 50%\n",
    "\n",
    "final_price=round(0.5*opt_price+np.exp(0.5*predicted_price))\n",
    "final_price"
   ]
  },
  {
   "cell_type": "code",
   "execution_count": 63,
   "id": "a0e959b1",
   "metadata": {},
   "outputs": [
    {
     "name": "stdout",
     "output_type": "stream",
     "text": [
      "The Estimated Max Revenue is: 6420\n"
     ]
    }
   ],
   "source": [
    "# max revenue within next month\n",
    "\n",
    "max_revenue=final_price *occupation_ratio*30\n",
    "print(\"The Estimated Max Revenue is: {:0.0f}\".format(max_revenue))"
   ]
  },
  {
   "cell_type": "code",
   "execution_count": null,
   "id": "3b852e38",
   "metadata": {},
   "outputs": [],
   "source": []
  }
 ],
 "metadata": {
  "kernelspec": {
   "display_name": "Python 3 (ipykernel)",
   "language": "python",
   "name": "python3"
  },
  "language_info": {
   "codemirror_mode": {
    "name": "ipython",
    "version": 3
   },
   "file_extension": ".py",
   "mimetype": "text/x-python",
   "name": "python",
   "nbconvert_exporter": "python",
   "pygments_lexer": "ipython3",
   "version": "3.9.7"
  },
  "toc": {
   "base_numbering": 1,
   "nav_menu": {},
   "number_sections": true,
   "sideBar": true,
   "skip_h1_title": false,
   "title_cell": "Table of Contents",
   "title_sidebar": "Contents",
   "toc_cell": true,
   "toc_position": {
    "height": "calc(100% - 180px)",
    "left": "10px",
    "top": "150px",
    "width": "302.391px"
   },
   "toc_section_display": true,
   "toc_window_display": true
  }
 },
 "nbformat": 4,
 "nbformat_minor": 5
}
